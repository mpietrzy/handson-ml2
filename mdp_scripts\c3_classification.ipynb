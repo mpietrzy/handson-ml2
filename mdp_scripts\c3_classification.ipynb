{
  "nbformat": 4,
  "nbformat_minor": 0,
  "metadata": {
    "colab": {
      "name": "c3_classification.ipynb",
      "provenance": [],
      "authorship_tag": "ABX9TyO/d9DD/Kek8a7g4I6Ybkxx"
    },
    "kernelspec": {
      "name": "python3",
      "display_name": "Python 3"
    },
    "language_info": {
      "name": "python"
    }
  },
  "cells": [
    {
      "cell_type": "code",
      "execution_count": 1,
      "metadata": {
        "colab": {
          "base_uri": "https://localhost:8080/"
        },
        "id": "Pm8vxtukSNgz",
        "outputId": "add10364-42b2-42c8-df83-73636f55de79"
      },
      "outputs": [
        {
          "output_type": "execute_result",
          "data": {
            "text/plain": [
              "dict_keys(['data', 'target', 'frame', 'categories', 'feature_names', 'target_names', 'DESCR', 'details', 'url'])"
            ]
          },
          "metadata": {},
          "execution_count": 1
        }
      ],
      "source": [
        "from sklearn.datasets import fetch_openml\n",
        "\n",
        "mnist = fetch_openml(\"mnist_784\", version=1)\n",
        "mnist.keys()"
      ]
    },
    {
      "cell_type": "code",
      "source": [
        "# exploring the mnist dataset\n",
        "\n",
        "X, y = mnist[\"data\"], mnist[\"target\"]\n",
        "X.shape"
      ],
      "metadata": {
        "colab": {
          "base_uri": "https://localhost:8080/"
        },
        "id": "aEtreM-sSreX",
        "outputId": "4c106a95-e576-478b-86e1-3fc9be3e55a3"
      },
      "execution_count": 2,
      "outputs": [
        {
          "output_type": "execute_result",
          "data": {
            "text/plain": [
              "(70000, 784)"
            ]
          },
          "metadata": {},
          "execution_count": 2
        }
      ]
    },
    {
      "cell_type": "code",
      "source": [
        "y.shape"
      ],
      "metadata": {
        "colab": {
          "base_uri": "https://localhost:8080/"
        },
        "id": "mYkuL7DAhS6U",
        "outputId": "fd97a787-db71-42e0-87d0-1fa58d08e43e"
      },
      "execution_count": 3,
      "outputs": [
        {
          "output_type": "execute_result",
          "data": {
            "text/plain": [
              "(70000,)"
            ]
          },
          "metadata": {},
          "execution_count": 3
        }
      ]
    },
    {
      "cell_type": "markdown",
      "source": [
        "Each image is 28x28 matrix and each feature represenst the pixel's intensity ranging from 0 (white) to 255 (black).  "
      ],
      "metadata": {
        "id": "qZ7eMcTyhjeP"
      }
    },
    {
      "cell_type": "code",
      "source": [
        "# view and example image\n",
        "\n",
        "import matplotlib as mpl\n",
        "import matplotlib.pyplot as plt\n",
        "\n",
        "some_digit = X.iloc[0].to_numpy()\n",
        "some_digit_image = some_digit.reshape(28,28)\n",
        "\n",
        "plt.imshow(some_digit_image, cmap = \"binary\")\n",
        "plt.axis(\"off\")\n",
        "plt.show()"
      ],
      "metadata": {
        "colab": {
          "base_uri": "https://localhost:8080/",
          "height": 248
        },
        "id": "RSwCpi6XhU92",
        "outputId": "d90594c7-8a7f-4a87-fd91-eaaea783fba7"
      },
      "execution_count": 22,
      "outputs": [
        {
          "output_type": "display_data",
          "data": {
            "text/plain": [
              "<Figure size 432x288 with 1 Axes>"
            ],
            "image/png": "[encoded data removed]"
          },
          "metadata": {
            "needs_background": "light"
          }
        }
      ]
    },
    {
      "cell_type": "code",
      "source": [
        "y[0]"
      ],
      "metadata": {
        "colab": {
          "base_uri": "https://localhost:8080/",
          "height": 36
        },
        "id": "rjOF8HxtidU-",
        "outputId": "ea980c15-16ca-4f57-b505-ba03988caa1a"
      },
      "execution_count": 27,
      "outputs": [
        {
          "output_type": "execute_result",
          "data": {
            "text/plain": [
              "'5'"
            ],
            "application/vnd.google.colaboratory.intrinsic+json": {
              "type": "string"
            }
          },
          "metadata": {},
          "execution_count": 27
        }
      ]
    },
    {
      "cell_type": "code",
      "source": [
        "# the label is a string, so we need to convert to an int\n",
        "import numpy as np\n",
        "y = y.astype(np.uint8)"
      ],
      "metadata": {
        "id": "44dHRQpcsuel"
      },
      "execution_count": 29,
      "outputs": []
    },
    {
      "cell_type": "code",
      "source": [
        "# the mnist data is already split into train and test\n",
        "X_train, X_test, y_train, y_test = X[:60000], X[60000:], y[:60000], y[60000:]"
      ],
      "metadata": {
        "id": "Fxl9jZzfs9v9"
      },
      "execution_count": 36,
      "outputs": []
    },
    {
      "cell_type": "code",
      "source": [
        "# training a binary classifier for the digit, 5\n",
        "\n",
        "y_train_5 = (y_train == 5)  # creates a binary label True for all 5s, Fales otherwise\n",
        "y_test_5 = (y_test == 5)\n",
        "\n",
        "# stochastic gradient descient classifers are really good for large datasets\n",
        "\n",
        "from sklearn.linear_model import SGDClassifier\n",
        "\n",
        "sgd_clf = SGDClassifier(random_state=12)\n",
        "sgd_clf.fit(X_train, y_train_5)\n",
        "\n",
        "sgd_clf.predict([some_digit])\n"
      ],
      "metadata": {
        "colab": {
          "base_uri": "https://localhost:8080/"
        },
        "id": "Sv9timV0tqat",
        "outputId": "bf12da27-1f6c-4f42-c617-ea69fa4e413f"
      },
      "execution_count": 37,
      "outputs": [
        {
          "output_type": "stream",
          "name": "stderr",
          "text": [
            "/usr/local/lib/python3.7/dist-packages/sklearn/base.py:451: UserWarning: X does not have valid feature names, but SGDClassifier was fitted with feature names\n",
            "  \"X does not have valid feature names, but\"\n"
          ]
        },
        {
          "output_type": "execute_result",
          "data": {
            "text/plain": [
              "array([False])"
            ]
          },
          "metadata": {},
          "execution_count": 37
        }
      ]
    },
    {
      "cell_type": "code",
      "source": [
        ""
      ],
      "metadata": {
        "id": "SIUpJi9_zMCh"
      },
      "execution_count": null,
      "outputs": []
    }
  ]
}