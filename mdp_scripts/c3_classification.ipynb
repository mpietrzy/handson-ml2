{
  "cells": [
    {
      "cell_type": "code",
      "execution_count": null,
      "metadata": {
        "colab": {
          "base_uri": "https://localhost:8080/"
        },
        "id": "Pm8vxtukSNgz",
        "outputId": "a78e3c5d-0a03-436e-b854-65279f07455f"
      },
      "outputs": [
        {
          "output_type": "execute_result",
          "data": {
            "text/plain": [
              "dict_keys(['data', 'target', 'frame', 'categories', 'feature_names', 'target_names', 'DESCR', 'details', 'url'])"
            ]
          },
          "metadata": {},
          "execution_count": 2
        }
      ],
      "source": [
        "from sklearn.datasets import fetch_openml\n",
        "\n",
        "mnist = fetch_openml(\"mnist_784\", version=1)\n",
        "mnist.keys()"
      ]
    },
    {
      "cell_type": "code",
      "execution_count": null,
      "metadata": {
        "colab": {
          "base_uri": "https://localhost:8080/"
        },
        "id": "aEtreM-sSreX",
        "outputId": "533aa705-cc28-4213-b4f1-6140e8971083"
      },
      "outputs": [
        {
          "output_type": "execute_result",
          "data": {
            "text/plain": [
              "(70000, 784)"
            ]
          },
          "metadata": {},
          "execution_count": 3
        }
      ],
      "source": [
        "# exploring the mnist dataset\n",
        "\n",
        "X, y = mnist[\"data\"], mnist[\"target\"]\n",
        "X.shape"
      ]
    },
    {
      "cell_type": "code",
      "execution_count": null,
      "metadata": {
        "colab": {
          "base_uri": "https://localhost:8080/"
        },
        "id": "mYkuL7DAhS6U",
        "outputId": "7bb462ce-8c50-47a1-8b93-0e1392865840"
      },
      "outputs": [
        {
          "output_type": "execute_result",
          "data": {
            "text/plain": [
              "(70000,)"
            ]
          },
          "metadata": {},
          "execution_count": 4
        }
      ],
      "source": [
        "y.shape"
      ]
    },
    {
      "cell_type": "markdown",
      "metadata": {
        "id": "qZ7eMcTyhjeP"
      },
      "source": [
        "Each image is 28x28 matrix and each feature represenst the pixel's intensity ranging from 0 (white) to 255 (black).  "
      ]
    },
    {
      "cell_type": "code",
      "execution_count": null,
      "metadata": {
        "colab": {
          "base_uri": "https://localhost:8080/",
          "height": 248
        },
        "id": "RSwCpi6XhU92",
        "outputId": "b9e80f02-21e1-453c-94a4-1637dd6e40fe"
      },
      "outputs": [
        {
          "output_type": "display_data",
          "data": {
            "text/plain": [
              "<Figure size 432x288 with 1 Axes>"
            ],
            "image/png": "[encoded data removed]"
          },
          "metadata": {
            "needs_background": "light"
          }
        }
      ],
      "source": [
        "# view and example image\n",
        "# there are differences with how pandas and numpy behave in the versions on EMR and those on my system\n",
        "# for example, the code below, I need the line with iloc to slice the row for the image below\n",
        "\n",
        "import matplotlib as mpl\n",
        "import matplotlib.pyplot as plt\n",
        "\n",
        "# some_digit = X[0]\n",
        "some_digit = X.iloc[0].to_numpy()\n",
        "some_digit_image = some_digit.reshape(28,28)\n",
        "\n",
        "plt.imshow(some_digit_image, cmap = \"binary\")\n",
        "plt.axis(\"off\")\n",
        "plt.show()"
      ]
    },
    {
      "cell_type": "code",
      "execution_count": null,
      "metadata": {
        "colab": {
          "base_uri": "https://localhost:8080/",
          "height": 36
        },
        "id": "rjOF8HxtidU-",
        "outputId": "81b0aa58-8058-4ec9-e113-919c9f215a3d"
      },
      "outputs": [
        {
          "output_type": "execute_result",
          "data": {
            "text/plain": [
              "'5'"
            ],
            "application/vnd.google.colaboratory.intrinsic+json": {
              "type": "string"
            }
          },
          "metadata": {},
          "execution_count": 6
        }
      ],
      "source": [
        "y[0]"
      ]
    },
    {
      "cell_type": "code",
      "execution_count": null,
      "metadata": {
        "id": "44dHRQpcsuel"
      },
      "outputs": [],
      "source": [
        "# the label is a string, so we need to convert to an int\n",
        "import numpy as np\n",
        "y = y.astype(np.uint8)"
      ]
    },
    {
      "cell_type": "code",
      "execution_count": null,
      "metadata": {
        "id": "Fxl9jZzfs9v9"
      },
      "outputs": [],
      "source": [
        "# the mnist data is already split into train and test\n",
        "X_train, X_test, y_train, y_test = X[:60000], X[60000:], y[:60000], y[60000:]"
      ]
    },
    {
      "cell_type": "markdown",
      "metadata": {
        "id": "xk_-A5duSnZy"
      },
      "source": [
        "## Train a Binary Classifier"
      ]
    },
    {
      "cell_type": "code",
      "execution_count": null,
      "metadata": {
        "colab": {
          "base_uri": "https://localhost:8080/"
        },
        "id": "Sv9timV0tqat",
        "outputId": "235fb20f-1ced-4f57-ae12-8fbeca720f9f"
      },
      "outputs": [
        {
          "output_type": "execute_result",
          "data": {
            "text/plain": [
              "SGDClassifier()"
            ]
          },
          "metadata": {},
          "execution_count": 9
        }
      ],
      "source": [
        "# train a binary classifier\n",
        "\n",
        "# setup\n",
        "y_train_5 = (y_train == 5) # setting up binary target == 5\n",
        "y_test_5 = (y_test == 5)\n",
        "\n",
        "# train the stochastic gradient descent classifier\n",
        "from sklearn.linear_model import SGDClassifier\n",
        "sgd_clf = SGDClassifier()\n",
        "sgd_clf.fit(X_train, y_train_5)\n"
      ]
    },
    {
      "cell_type": "code",
      "execution_count": null,
      "metadata": {
        "colab": {
          "base_uri": "https://localhost:8080/"
        },
        "id": "oA8-LzhDSCVY",
        "outputId": "1d379601-1db4-41b3-e824-9247e4c4e538"
      },
      "outputs": [
        {
          "output_type": "stream",
          "name": "stderr",
          "text": [
            "/usr/local/lib/python3.7/dist-packages/sklearn/base.py:451: UserWarning: X does not have valid feature names, but SGDClassifier was fitted with feature names\n",
            "  \"X does not have valid feature names, but\"\n"
          ]
        },
        {
          "output_type": "execute_result",
          "data": {
            "text/plain": [
              "array([False])"
            ]
          },
          "metadata": {},
          "execution_count": 10
        }
      ],
      "source": [
        "# predict with the trained classifier\n",
        "sgd_clf.predict([some_digit])"
      ]
    },
    {
      "cell_type": "markdown",
      "metadata": {
        "id": "Tg7e9gXrVjEm"
      },
      "source": [
        "## Model Performance Evaluation\n",
        "\n",
        "### Common Options\n",
        "\n",
        "* Accuracy with Cross-Validation\n",
        "Implementing a custom version with more flexibility than the one shipped with scikit-learn is not complicated.... see below.\n"
      ]
    },
    {
      "cell_type": "code",
      "execution_count": null,
      "metadata": {
        "colab": {
          "base_uri": "https://localhost:8080/"
        },
        "id": "iL-CXsA_UnSu",
        "outputId": "5cfbc8e5-76a7-49da-f596-facf6309991c"
      },
      "outputs": [
        {
          "output_type": "stream",
          "name": "stdout",
          "text": [
            "0.96845\n",
            "0.96685\n",
            "0.9663\n"
          ]
        }
      ],
      "source": [
        "# custom cross-validation\n",
        "\n",
        "# Dependencies\n",
        "from sklearn.model_selection import StratifiedKFold\n",
        "from sklearn.base import clone\n",
        "\n",
        "skfolds = StratifiedKFold(n_splits=3)\n",
        "\n",
        "\"\"\" newer versions of pandas \"\"\"\n",
        "for train_index, test_index in skfolds.split(X_train, y_train_5):\n",
        "  clone_clf = clone(sgd_clf)\n",
        "  X_train_folds = X_train.iloc[train_index]\n",
        "  y_train_folds = y_train_5.iloc[train_index]\n",
        "  X_test_fold = X_train.iloc[test_index]\n",
        "  y_test_fold = y_train_5.iloc[test_index]\n",
        "\n",
        "\n",
        "\"\"\" for use on EMR system\n",
        "for train_index, test_index in skfolds.split(X_train, y_train_5):\n",
        "  clone_clf = clone(sgd_clf)\n",
        "  X_train_folds = X_train[train_index]\n",
        "  y_train_folds = y_train_5[train_index]\n",
        "  X_test_fold = X_train[test_index]\n",
        "  y_test_fold = y_train_5[test_index]\n",
        "\"\"\"\n",
        "\n",
        "# Use clone ultility to fit folds and aggregrate results\n",
        "  clone_clf.fit(X_train_folds, y_train_folds)\n",
        "  y_pred = clone_clf.predict(X_test_fold)\n",
        "  n_correct = sum(y_pred == y_test_fold)\n",
        "  print(n_correct / len(y_pred))\n",
        "\n"
      ]
    },
    {
      "cell_type": "code",
      "execution_count": null,
      "metadata": {
        "colab": {
          "base_uri": "https://localhost:8080/"
        },
        "id": "Lu2PrkPiZxFS",
        "outputId": "2ed1e019-fde2-4691-9e31-2b7504085d1f"
      },
      "outputs": [
        {
          "output_type": "execute_result",
          "data": {
            "text/plain": [
              "array([0.959     , 0.96166667, 0.94558333, 0.95516667, 0.96275   ])"
            ]
          },
          "metadata": {},
          "execution_count": 12
        }
      ],
      "source": [
        "# cross-validation with shipped methdo from scikit-learn\n",
        "from sklearn.model_selection import cross_val_score\n",
        "\n",
        "cross_val_score(sgd_clf, X_train, y_train_5, cv=5, scoring=\"accuracy\")"
      ]
    },
    {
      "cell_type": "markdown",
      "metadata": {
        "id": "0EsdWBWOcQCg"
      },
      "source": [
        "While the accuracies look great, this is an example of an imbalanced classifier.  Therefore we need to examine it with a better metrics to evaluation the model.  To show this, the next code shows a naive classification model that just classifies all images as \"not-5\"."
      ]
    },
    {
      "cell_type": "code",
      "execution_count": null,
      "metadata": {
        "id": "FdVcLHZ6bwm8"
      },
      "outputs": [],
      "source": [
        "# showing issues of class imbalance\n",
        "from sklearn.base import BaseEstimator\n",
        "\n",
        "class Never5Classifier(BaseEstimator):\n",
        "  def fit(self, X, y=None):\n",
        "    return self\n",
        "\n",
        "  def predict(self, X):\n",
        "    return np.zeros((len(X), 1), dtype=bool)\n"
      ]
    },
    {
      "cell_type": "code",
      "execution_count": null,
      "metadata": {
        "colab": {
          "base_uri": "https://localhost:8080/"
        },
        "id": "LBKa_KqadbOa",
        "outputId": "195abc35-4fa4-452f-b3d5-12869b35d58c"
      },
      "outputs": [
        {
          "output_type": "execute_result",
          "data": {
            "text/plain": [
              "array([0.91125, 0.90855, 0.90915])"
            ]
          },
          "metadata": {},
          "execution_count": 14
        }
      ],
      "source": [
        "never_5_clf = Never5Classifier()\n",
        "\n",
        "cross_val_score(never_5_clf, X_train, y_train_5, cv=3, scoring=\"accuracy\")"
      ]
    },
    {
      "cell_type": "markdown",
      "metadata": {
        "id": "rdIIapMPerYW"
      },
      "source": [
        "## Confusion Matrix\n",
        "\n",
        "Inspect the distribution of the predicted labels."
      ]
    },
    {
      "cell_type": "code",
      "execution_count": null,
      "metadata": {
        "id": "jQRlDsLSdu4W"
      },
      "outputs": [],
      "source": [
        "# setup dependencies for the confusion matrix\n",
        "from sklearn.model_selection import cross_val_predict\n",
        "\n",
        "y_train_pred = cross_val_predict(sgd_clf, X_train, y_train_5, cv=3)"
      ]
    },
    {
      "cell_type": "code",
      "execution_count": null,
      "metadata": {
        "colab": {
          "base_uri": "https://localhost:8080/"
        },
        "id": "RRLNm-bPgQYg",
        "outputId": "498827ef-c9f8-414e-c6b2-1ddcb80a3020"
      },
      "outputs": [
        {
          "output_type": "execute_result",
          "data": {
            "text/plain": [
              "array([[53896,   683],\n",
              "       [ 1627,  3794]])"
            ]
          },
          "metadata": {},
          "execution_count": 16
        }
      ],
      "source": [
        "# evaluate the confustion matric\n",
        "from sklearn.metrics import confusion_matrix\n",
        "\n",
        "confusion_matrix(y_train_5, y_train_pred)"
      ]
    },
    {
      "cell_type": "markdown",
      "metadata": {
        "id": "XH1bDHYHhyQ_"
      },
      "source": [
        "### Metrics from the Confusion Matrix\n",
        "\n",
        "* Precision = accuracy of true positives\n",
        "\n",
        "TP / TP + FP, e.g.) how many actual TPs do we have out of the to total count of positive instances - 5's in this case, whether they are TP or FP (negative instances classified to postives)\n",
        "\n",
        "Precision alone can also be misleading since the denominator is composed only of the available positive cases.  If all positive cases are predicted accurately then a 100% precision will result. We need another measure to help\n",
        "\n",
        "* Recall | Sensitivity | TPR  \n",
        "\n",
        "The recall is how sensitive the classifier is since it incorporates the FN in labes in the denominator.\n",
        "TP / TP + FN, where FN represents the postive class falsely classified as a negative...e.g.so \"sensitivity\"."
      ]
    },
    {
      "cell_type": "code",
      "execution_count": null,
      "metadata": {
        "colab": {
          "base_uri": "https://localhost:8080/"
        },
        "id": "Erz__TmkhAum",
        "outputId": "c22e973e-dd15-4b6b-8c34-f2ee59092f2e"
      },
      "outputs": [
        {
          "output_type": "stream",
          "name": "stdout",
          "text": [
            "0.8474424838061202\n",
            "0.699870872532743\n"
          ]
        }
      ],
      "source": [
        "# metrics from the confusion matrix\n",
        "# Precision = accuracy of true positives\n",
        "\n",
        "from sklearn.metrics import precision_score, recall_score\n",
        "print(precision_score(y_train_5, y_train_pred))\n",
        "print(recall_score(y_train_5, y_train_pred))"
      ]
    },
    {
      "cell_type": "markdown",
      "metadata": {
        "id": "-150v2AZll2t"
      },
      "source": [
        "The interpretation of the precision and recall metrics is important and provides a richer understanding of a classifier's performance.  For example, the precision = 0.80 which means that when the model claims an image is a 5 it is correct 80% of the time.  The recall is a nice compliment to the precision since in this case it shows that the model only detects 5's 72.4% of the time...only so-s0 sentivity."
      ]
    },
    {
      "cell_type": "markdown",
      "metadata": {
        "id": "KZUMocB3nBzA"
      },
      "source": [
        "### Combining Precision and Recall: F1\n",
        "\n",
        "The F1 score is the harmonic mean of the precision and recall.  The harmonic mean calculated in such a way that that lower values get more weight.  This ensures that the a larger F1 score is driven by *both* the precision and recall being large.\n",
        "\n",
        "F1 = 2/(1/precision + 1/recall) = 2 * (precision*recall)/(precision + recall) = TP/(TP + (FN + FP)/2)"
      ]
    },
    {
      "cell_type": "code",
      "execution_count": null,
      "metadata": {
        "colab": {
          "base_uri": "https://localhost:8080/"
        },
        "id": "EeIjyxTQlVGL",
        "outputId": "70f75417-83f7-4450-94fd-3487cc588b27"
      },
      "outputs": [
        {
          "output_type": "execute_result",
          "data": {
            "text/plain": [
              "0.7666195190947666"
            ]
          },
          "metadata": {},
          "execution_count": 18
        }
      ],
      "source": [
        "# F1 score\n",
        "from sklearn.metrics import f1_score\n",
        "f1_score(y_train_5, y_train_pred)"
      ]
    },
    {
      "cell_type": "markdown",
      "metadata": {
        "id": "FtWWcopUo13B"
      },
      "source": [
        "F1 favors the case when precision and recall for more balanced.  This may not always be the goal of the prediction.  For example, when we need to classify only good examples to be presented to a review team, we will favor high precision, but low recall (sensitivity).  On the other hand, one might want to ensure the model is very sensitive to alert or warn on events like possible shop-lifting.  In that case, we may favor a highly senstive model (recall) with lower precision.  There may be some FPs that need to be dealt with downstream.\n",
        "\n",
        "The scores from a classifier can be used to set the threshold a decision function used in the classififer to achieve a different balance of recall and precision depending on the need of the stakeholder"
      ]
    },
    {
      "cell_type": "code",
      "execution_count": null,
      "metadata": {
        "colab": {
          "base_uri": "https://localhost:8080/"
        },
        "id": "bFqJELK4oOs_",
        "outputId": "14108f1d-7416-46b1-d208-43b052c27881"
      },
      "outputs": [
        {
          "output_type": "stream",
          "name": "stderr",
          "text": [
            "/usr/local/lib/python3.7/dist-packages/sklearn/base.py:451: UserWarning: X does not have valid feature names, but SGDClassifier was fitted with feature names\n",
            "  \"X does not have valid feature names, but\"\n"
          ]
        },
        {
          "output_type": "execute_result",
          "data": {
            "text/plain": [
              "array([-2255.19919695])"
            ]
          },
          "metadata": {},
          "execution_count": 19
        }
      ],
      "source": [
        "# adjusting the decision threshold\n",
        "y_scores = sgd_clf.decision_function([some_digit])\n",
        "y_scores"
      ]
    },
    {
      "cell_type": "code",
      "execution_count": null,
      "metadata": {
        "colab": {
          "base_uri": "https://localhost:8080/"
        },
        "id": "o4rFHIKnsF-w",
        "outputId": "4221c15d-a9ff-47ef-84f2-3abe8b2ffd64"
      },
      "outputs": [
        {
          "output_type": "stream",
          "name": "stdout",
          "text": [
            "[False]\n"
          ]
        }
      ],
      "source": [
        "threshold = 0\n",
        "y_some_digit_pred = (y_scores > threshold)\n",
        "print(y_some_digit_pred)"
      ]
    },
    {
      "cell_type": "code",
      "execution_count": null,
      "metadata": {
        "colab": {
          "base_uri": "https://localhost:8080/"
        },
        "id": "TrKS5-9CstGf",
        "outputId": "97ca6700-cdac-40a1-c247-8740223134d9"
      },
      "outputs": [
        {
          "output_type": "execute_result",
          "data": {
            "text/plain": [
              "-2255.199196952"
            ]
          },
          "metadata": {},
          "execution_count": 21
        }
      ],
      "source": [
        "y_scores.min()"
      ]
    },
    {
      "cell_type": "code",
      "execution_count": null,
      "metadata": {
        "colab": {
          "base_uri": "https://localhost:8080/"
        },
        "id": "PhqQdeq4s60i",
        "outputId": "c52dfec0-8bb8-485a-fc0d-6eefd3f06d18"
      },
      "outputs": [
        {
          "output_type": "execute_result",
          "data": {
            "text/plain": [
              "array([False])"
            ]
          },
          "metadata": {},
          "execution_count": 22
        }
      ],
      "source": [
        "# increse the threshold\n",
        "threshold = 8000\n",
        "y_some_digit_pred = (y_scores > threshold)\n",
        "y_some_digit_pred"
      ]
    },
    {
      "cell_type": "markdown",
      "metadata": {
        "id": "oMPSuFDbt-xB"
      },
      "source": [
        "The image in `some_digit` actually represents a \"5\" so this shows how raising the threshold decreases recall (sensitivity) of the classifier.\n",
        "\n",
        "### How to specify threshold"
      ]
    },
    {
      "cell_type": "code",
      "execution_count": null,
      "metadata": {
        "id": "uJyY8GQ6t6Pj"
      },
      "outputs": [],
      "source": [
        "# specifying threshold\n",
        "y_scores = cross_val_predict(sgd_clf, X_train, y_train_5, cv=3,\n",
        "                             method = \"decision_function\")"
      ]
    },
    {
      "cell_type": "markdown",
      "metadata": {
        "id": "lmiy5nWYvKp3"
      },
      "source": [
        "With all the raw scores from the decision function we can use them to plot a curve of precision and recall versus all the available thresholds."
      ]
    },
    {
      "cell_type": "code",
      "execution_count": null,
      "metadata": {
        "colab": {
          "base_uri": "https://localhost:8080/",
          "height": 265
        },
        "id": "2PovgFhKu0ik",
        "outputId": "c2149152-8f5f-4830-d5c9-224ff006d0d1"
      },
      "outputs": [
        {
          "output_type": "display_data",
          "data": {
            "text/plain": [
              "<Figure size 432x288 with 1 Axes>"
            ],
            "image/png": "[encoded data removed]"
          },
          "metadata": {
            "needs_background": "light"
          }
        }
      ],
      "source": [
        "# precision recall curve\n",
        "from sklearn.metrics import precision_recall_curve\n",
        "\n",
        "precisions, recalls, thresholds = precision_recall_curve(y_train_5, y_scores)\n",
        "\n",
        "# matplotlib to plot the results\n",
        "def plot_precision_recall(precisions, recalls, thresholds):\n",
        "  plt.plot(thresholds, precisions[:-1], \"b--\", label=\"Precision\")\n",
        "  plt.plot(thresholds, recalls[:-1], \"g-\", label=\"Recall\")\n",
        "  [...]\n",
        "\n",
        "plot_precision_recall(precisions, recalls, thresholds)\n",
        "plt.show()"
      ]
    },
    {
      "cell_type": "code",
      "execution_count": null,
      "metadata": {
        "id": "qkn48rZuv4CP",
        "outputId": "30ef93ee-7c4c-4083-e1bc-786086af6c03",
        "colab": {
          "base_uri": "https://localhost:8080/"
        }
      },
      "outputs": [
        {
          "output_type": "execute_result",
          "data": {
            "text/plain": [
              "722.081417292088"
            ]
          },
          "metadata": {},
          "execution_count": 26
        }
      ],
      "source": [
        "                                                                                           # so, how to find the optimal threshold?\n",
        "threshold_90_precision = thresholds[np.argmax(precisions >= 0.90)]\n",
        "threshold_90_precision"
      ]
    },
    {
      "cell_type": "code",
      "source": [
        "y_train_pred_90 = (y_scores >= threshold_90_precision)\n",
        "y_train_pred_90 == True\n"
      ],
      "metadata": {
        "id": "g8ra6kb7p1ws",
        "outputId": "1746ffb8-75d0-4512-bfd5-b1c1f9c39bc5",
        "colab": {
          "base_uri": "https://localhost:8080/"
        }
      },
      "execution_count": null,
      "outputs": [
        {
          "output_type": "execute_result",
          "data": {
            "text/plain": [
              "array([ True, False, False, ...,  True, False, False])"
            ]
          },
          "metadata": {},
          "execution_count": 27
        }
      ]
    },
    {
      "cell_type": "code",
      "source": [
        "precision_score(y_train_5, y_train_pred_90)"
      ],
      "metadata": {
        "id": "YkZfHDzOqMuv",
        "outputId": "98431068-caca-47a7-b5a8-b88c0b66e56e",
        "colab": {
          "base_uri": "https://localhost:8080/"
        }
      },
      "execution_count": null,
      "outputs": [
        {
          "output_type": "execute_result",
          "data": {
            "text/plain": [
              "0.9001186239620403"
            ]
          },
          "metadata": {},
          "execution_count": 28
        }
      ]
    },
    {
      "cell_type": "code",
      "source": [
        "recall_score(y_train_5, y_train_pred_90)"
      ],
      "metadata": {
        "id": "KqEv-5oJrAEN",
        "outputId": "b00286b2-6740-4e24-dcc7-9a369f08719d",
        "colab": {
          "base_uri": "https://localhost:8080/"
        }
      },
      "execution_count": null,
      "outputs": [
        {
          "output_type": "execute_result",
          "data": {
            "text/plain": [
              "0.699870872532743"
            ]
          },
          "metadata": {},
          "execution_count": 29
        }
      ]
    },
    {
      "cell_type": "markdown",
      "source": [
        "## ROC Curve"
      ],
      "metadata": {
        "id": "FGhQVI5JrNlv"
      }
    },
    {
      "cell_type": "code",
      "source": [
        "# construct a ROC curve\n",
        "from sklearn.metrics import roc_curve\n",
        "\n",
        "# grab the data needed\n",
        "fpr, tpr, thresholds = roc_curve(y_train_5, y_scores)\n",
        "\n",
        "# define the plot function\n",
        "def plot_roc_curve(fpr, tpr, label=None):\n",
        "  plt.plot(fpr, tpr, linewidth=2, label=label)\n",
        "  plt.plot([0,1], [0,1], 'k--')  # dashed diagonal\n",
        "  [...]  # add axis labels and grid, etc.\n",
        "\n",
        "plot_roc_curve(fpr, tpr)\n",
        "plt.show()"
      ],
      "metadata": {
        "id": "X_UaEKeHrHOd",
        "outputId": "cb170dd1-cfa9-4a33-d672-4c4a587c8d83",
        "colab": {
          "base_uri": "https://localhost:8080/",
          "height": 265
        }
      },
      "execution_count": null,
      "outputs": [
        {
          "output_type": "display_data",
          "data": {
            "text/plain": [
              "<Figure size 432x288 with 1 Axes>"
            ],
            "image/png": "[encoded data removed]"
          },
          "metadata": {
            "needs_background": "light"
          }
        }
      ]
    },
    {
      "cell_type": "code",
      "source": [
        "from sklearn.metrics import roc_auc_score\n",
        "roc_auc_score(y_train_5, y_scores)"
      ],
      "metadata": {
        "id": "8PGuRewOrvYi",
        "outputId": "fb8ed25b-2772-429f-859e-22146eb86e20",
        "colab": {
          "base_uri": "https://localhost:8080/"
        }
      },
      "execution_count": null,
      "outputs": [
        {
          "output_type": "execute_result",
          "data": {
            "text/plain": [
              "0.9687614296387457"
            ]
          },
          "metadata": {},
          "execution_count": 32
        }
      ]
    },
    {
      "cell_type": "markdown",
      "source": [
        "Assess SGD Classifier aginst Random Forest Classifier"
      ],
      "metadata": {
        "id": "LBWrIfHLWFud"
      }
    },
    {
      "cell_type": "code",
      "source": [
        "# Random Forest\n",
        "\n",
        "# import -----\n",
        "from sklearn.ensemble import RandomForestClassifier\n",
        "\n",
        "# train -----\n",
        "forest_clf = RandomForestClassifier(random_state = 42)\n",
        "y_proba_forest = cross_val_predict(\n",
        "    forest_clf,\n",
        "    X_train,\n",
        "    y_train_5,\n",
        "    cv = 3,\n",
        "    method = \"predict_proba\"\n",
        ")"
      ],
      "metadata": {
        "id": "2Vl_DgiFs3XB"
      },
      "execution_count": null,
      "outputs": []
    },
    {
      "cell_type": "code",
      "source": [
        "# grab the postive class probas for roc_curve\n",
        "\n",
        "# get data -----\n",
        "y_scores_forest = y_proba_forest[:,1] # score = prob pos class\n",
        "fpr_forest, tpr_forest, thresholds_forest = roc_curve(y_train_5, y_scores_forest)\n"
      ],
      "metadata": {
        "id": "shhvatOQW_L_"
      },
      "execution_count": null,
      "outputs": []
    },
    {
      "cell_type": "code",
      "source": [
        "# roc_curve comparing SGD and Random Forests\n",
        "\n",
        "# plot -----\n",
        "plt.plot(fpr, tpr, \"b:\",  label = \"SGD\")\n",
        "plot_roc_curve(fpr_forest, tpr_forest, \"Random Forest\")\n",
        "plt.legend(loc=\"lower right\")\n",
        "plt.show()"
      ],
      "metadata": {
        "id": "6r-lPSN4X08h",
        "outputId": "a3596399-2eb9-430f-98de-cd0843afee0e",
        "colab": {
          "base_uri": "https://localhost:8080/",
          "height": 265
        }
      },
      "execution_count": null,
      "outputs": [
        {
          "output_type": "display_data",
          "data": {
            "text/plain": [
              "<Figure size 432x288 with 1 Axes>"
            ],
            "image/png": "[encoded data removed]"
          },
          "metadata": {
            "needs_background": "light"
          }
        }
      ]
    },
    {
      "cell_type": "code",
      "source": [
        "# compute the Random Forest AUC score\n",
        "roc_auc_score(y_train_5, y_scores_forest)"
      ],
      "metadata": {
        "id": "Esr0z36UX5oN",
        "outputId": "30cd9885-49bd-4a75-8a63-d5a7af052835",
        "colab": {
          "base_uri": "https://localhost:8080/"
        }
      },
      "execution_count": null,
      "outputs": [
        {
          "output_type": "execute_result",
          "data": {
            "text/plain": [
              "0.9983436731328145"
            ]
          },
          "metadata": {},
          "execution_count": 38
        }
      ]
    },
    {
      "cell_type": "code",
      "source": [
        "# get the 90% precision threshold -----\n",
        "forest_thresh_90prec = thresholds_forest[np.argmax(tpr_forest >= 0.90)]\n",
        "\n",
        "# calc binary pred response -----\n",
        "y_forest_binary = (y_scores >= forest_thresh_90prec)\n",
        "\n",
        "# precision and recall scores\n",
        "print(precision_score(y_train_5, y_forest_binary))\n",
        "print(recall_score(y_train_5, y_forest_binary))"
      ],
      "metadata": {
        "id": "Oy87kd-CZAVA",
        "outputId": "b0338bce-3fa6-4534-de21-9278605ea4fa",
        "colab": {
          "base_uri": "https://localhost:8080/"
        }
      },
      "execution_count": null,
      "outputs": [
        {
          "output_type": "stream",
          "name": "stdout",
          "text": [
            "0.8755960121369745\n",
            "0.7452499538830474\n"
          ]
        }
      ]
    },
    {
      "cell_type": "markdown",
      "source": [
        "## Moving on multi-class evaluation"
      ],
      "metadata": {
        "id": "QHOh4_l2c1XU"
      }
    },
    {
      "cell_type": "code",
      "source": [
        "# SVC Classifier using the OvO strategy\n",
        "\n",
        "# import -----\n",
        "from sklearn.svm import SVC\n",
        "\n",
        "# train -----\n",
        "svm_clf = SVC()\n",
        "svm_clf.fit(X_train, y_train)\n",
        "svm_clf.predict([some_digit])"
      ],
      "metadata": {
        "id": "UhTX4wauZce0",
        "outputId": "4f092a02-3fd3-4ac7-9512-9665b4299779",
        "colab": {
          "base_uri": "https://localhost:8080/"
        }
      },
      "execution_count": null,
      "outputs": [
        {
          "output_type": "stream",
          "name": "stderr",
          "text": [
            "/usr/local/lib/python3.7/dist-packages/sklearn/base.py:451: UserWarning: X does not have valid feature names, but SVC was fitted with feature names\n",
            "  \"X does not have valid feature names, but\"\n"
          ]
        },
        {
          "output_type": "execute_result",
          "data": {
            "text/plain": [
              "array([5], dtype=uint8)"
            ]
          },
          "metadata": {},
          "execution_count": 46
        }
      ]
    },
    {
      "cell_type": "code",
      "source": [
        "# seeing the outcome of the OvO scoring and choice\n",
        "some_digit_scores = svm_clf.decision_function([some_digit])\n",
        "some_digit_scores"
      ],
      "metadata": {
        "id": "NGbrZ73wdrWK",
        "outputId": "a7cbbbf0-5270-4ba2-e1e6-448e03a3af39",
        "colab": {
          "base_uri": "https://localhost:8080/"
        }
      },
      "execution_count": null,
      "outputs": [
        {
          "output_type": "stream",
          "name": "stderr",
          "text": [
            "/usr/local/lib/python3.7/dist-packages/sklearn/base.py:451: UserWarning: X does not have valid feature names, but SVC was fitted with feature names\n",
            "  \"X does not have valid feature names, but\"\n"
          ]
        },
        {
          "output_type": "execute_result",
          "data": {
            "text/plain": [
              "array([[ 1.72501977,  2.72809088,  7.2510018 ,  8.3076379 , -0.31087254,\n",
              "         9.3132482 ,  1.70975103,  2.76765202,  6.23049537,  4.84771048]])"
            ]
          },
          "metadata": {},
          "execution_count": 47
        }
      ]
    },
    {
      "cell_type": "code",
      "source": [
        "np.argmax(some_digit_scores)"
      ],
      "metadata": {
        "id": "U3kLz46weX48",
        "outputId": "82c01179-49fe-43e3-a201-41c07ff880ba",
        "colab": {
          "base_uri": "https://localhost:8080/"
        }
      },
      "execution_count": null,
      "outputs": [
        {
          "output_type": "execute_result",
          "data": {
            "text/plain": [
              "5"
            ]
          },
          "metadata": {},
          "execution_count": 48
        }
      ]
    },
    {
      "cell_type": "code",
      "source": [
        "# forcing the classifier to use OvR strategy\n",
        "\n",
        "# imports -----\n",
        "from sklearn.multiclass import OneVsRestClassifier\n",
        "\n",
        "# train -----\n",
        "ovr_clf = OneVsRestClassifier(SVC())\n",
        "ovr_clf.fit(X_train, y_train)\n",
        "\n",
        "# predict -----\n",
        "ovr_clf.predict([some_digit])"
      ],
      "metadata": {
        "id": "OO_43TEMeiIC"
      },
      "execution_count": null,
      "outputs": []
    },
    {
      "cell_type": "code",
      "source": [
        "# ease of prediction multiple classed with other models like\n",
        "# SGD or Random Forests\n",
        "\n",
        "# using SGD to follow the book -----\n",
        "sgd_clf.fit(X_train, y_train)\n",
        "sgd_clf.predict([some_digit])\n"
      ],
      "metadata": {
        "id": "5kXDG7kFf2bj",
        "colab": {
          "base_uri": "https://localhost:8080/"
        },
        "outputId": "0c9d83dc-ea2d-4c8d-a9e1-e7ee7950e947"
      },
      "execution_count": 52,
      "outputs": [
        {
          "output_type": "stream",
          "name": "stderr",
          "text": [
            "/usr/local/lib/python3.7/dist-packages/sklearn/base.py:451: UserWarning: X does not have valid feature names, but SGDClassifier was fitted with feature names\n",
            "  \"X does not have valid feature names, but\"\n"
          ]
        },
        {
          "output_type": "execute_result",
          "data": {
            "text/plain": [
              "array([5], dtype=uint8)"
            ]
          },
          "metadata": {},
          "execution_count": 52
        }
      ]
    },
    {
      "cell_type": "code",
      "source": [
        "print(sgd_clf.decision_function([some_digit]))\n",
        "print(np.argmax(sgd_clf.decision_function([some_digit])))"
      ],
      "metadata": {
        "colab": {
          "base_uri": "https://localhost:8080/"
        },
        "id": "iI4fPpNu_15o",
        "outputId": "4dff8b18-a196-41c7-8011-2c85e12a6dc5"
      },
      "execution_count": 56,
      "outputs": [
        {
          "output_type": "stream",
          "name": "stdout",
          "text": [
            "[[-17862.78005237 -36578.63753762 -13862.97980556   -554.3313865\n",
            "  -19907.09995809   5222.10809526 -27432.82379877 -17045.42904684\n",
            "  -15278.13936407 -12304.68371234]]\n",
            "5\n"
          ]
        },
        {
          "output_type": "stream",
          "name": "stderr",
          "text": [
            "/usr/local/lib/python3.7/dist-packages/sklearn/base.py:451: UserWarning: X does not have valid feature names, but SGDClassifier was fitted with feature names\n",
            "  \"X does not have valid feature names, but\"\n",
            "/usr/local/lib/python3.7/dist-packages/sklearn/base.py:451: UserWarning: X does not have valid feature names, but SGDClassifier was fitted with feature names\n",
            "  \"X does not have valid feature names, but\"\n"
          ]
        }
      ]
    },
    {
      "cell_type": "code",
      "source": [
        "# model performance with cross-validation\n",
        "cross_val_score(\n",
        "    sgd_clf, \n",
        "    X_train, \n",
        "    y_train, \n",
        "    cv = 3, \n",
        "    scoring = \"accuracy\"\n",
        "    )"
      ],
      "metadata": {
        "colab": {
          "base_uri": "https://localhost:8080/"
        },
        "id": "U6uUPi9oC1_I",
        "outputId": "9c863890-3310-4291-aef8-3613b59c9987"
      },
      "execution_count": 58,
      "outputs": [
        {
          "output_type": "execute_result",
          "data": {
            "text/plain": [
              "array([0.8708, 0.8779, 0.8745])"
            ]
          },
          "metadata": {},
          "execution_count": 58
        }
      ]
    },
    {
      "cell_type": "code",
      "source": [
        "# some improvement with scaling the imput intensities\n",
        "from sklearn.preprocessing import StandardScaler\n",
        "\n",
        "scaler = StandardScaler()\n",
        "X_train_scaled = scaler.fit_transform(X_train.astype(np.float64))\n",
        "cross_val_score(\n",
        "    sgd_clf,\n",
        "    X_train_scaled,\n",
        "    y_train,\n",
        "    cv = 3, \n",
        "    scoring = \"accuracy\"\n",
        ")\n"
      ],
      "metadata": {
        "id": "lKq5QiodFgez"
      },
      "execution_count": null,
      "outputs": []
    },
    {
      "cell_type": "markdown",
      "source": [
        "## Error Analysis\n",
        "\n",
        "Once a model is buitt that will satisfy the requirements, to make further improvements on that model it's often beneficial to undergo some error analysis to identify the types of errors being produced and and how we might go ahead fixing them."
      ],
      "metadata": {
        "id": "iXHRTN3dBnxI"
      }
    },
    {
      "cell_type": "code",
      "source": [
        "y_train_pred = cross_val_predicted(sgd_clf, X_train)"
      ],
      "metadata": {
        "id": "vVWALN1tAwBK"
      },
      "execution_count": null,
      "outputs": []
    }
  ],
  "metadata": {
    "colab": {
      "name": "c3_classification.ipynb",
      "provenance": []
    },
    "kernelspec": {
      "display_name": "Python 3",
      "language": "python",
      "name": "python3"
    },
    "language_info": {
      "codemirror_mode": {
        "name": "ipython",
        "version": 3
      },
      "file_extension": ".py",
      "mimetype": "text/x-python",
      "name": "python",
      "nbconvert_exporter": "python",
      "pygments_lexer": "ipython3",
      "version": "3.6.12"
    }
  },
  "nbformat": 4,
  "nbformat_minor": 0
}