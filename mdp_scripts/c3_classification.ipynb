{
  "cells": [
    {
      "cell_type": "code",
      "execution_count": 2,
      "metadata": {
        "colab": {
          "base_uri": "https://localhost:8080/"
        },
        "id": "Pm8vxtukSNgz",
        "outputId": "087b2f46-88e5-45f2-b70d-137c0297d2ec"
      },
      "outputs": [
        {
          "output_type": "execute_result",
          "data": {
            "text/plain": [
              "dict_keys(['data', 'target', 'frame', 'categories', 'feature_names', 'target_names', 'DESCR', 'details', 'url'])"
            ]
          },
          "metadata": {},
          "execution_count": 2
        }
      ],
      "source": [
        "from sklearn.datasets import fetch_openml\n",
        "\n",
        "mnist = fetch_openml(\"mnist_784\", version=1)\n",
        "mnist.keys()"
      ]
    },
    {
      "cell_type": "code",
      "execution_count": 3,
      "metadata": {
        "colab": {
          "base_uri": "https://localhost:8080/"
        },
        "id": "aEtreM-sSreX",
        "outputId": "04c1fa62-127c-45f5-c3b4-9c6e3170b027"
      },
      "outputs": [
        {
          "output_type": "execute_result",
          "data": {
            "text/plain": [
              "(70000, 784)"
            ]
          },
          "metadata": {},
          "execution_count": 3
        }
      ],
      "source": [
        "# exploring the mnist dataset\n",
        "\n",
        "X, y = mnist[\"data\"], mnist[\"target\"]\n",
        "X.shape"
      ]
    },
    {
      "cell_type": "code",
      "execution_count": 4,
      "metadata": {
        "colab": {
          "base_uri": "https://localhost:8080/"
        },
        "id": "mYkuL7DAhS6U",
        "outputId": "cde582b0-3507-4674-b5a6-146233da7088"
      },
      "outputs": [
        {
          "output_type": "execute_result",
          "data": {
            "text/plain": [
              "(70000,)"
            ]
          },
          "metadata": {},
          "execution_count": 4
        }
      ],
      "source": [
        "y.shape"
      ]
    },
    {
      "cell_type": "markdown",
      "metadata": {
        "id": "qZ7eMcTyhjeP"
      },
      "source": [
        "Each image is 28x28 matrix and each feature represenst the pixel's intensity ranging from 0 (white) to 255 (black).  "
      ]
    },
    {
      "cell_type": "code",
      "execution_count": 5,
      "metadata": {
        "colab": {
          "base_uri": "https://localhost:8080/",
          "height": 248
        },
        "id": "RSwCpi6XhU92",
        "outputId": "59be2ce0-5504-4ae2-f18e-4082aa447d3e"
      },
      "outputs": [
        {
          "output_type": "display_data",
          "data": {
            "text/plain": [
              "<Figure size 432x288 with 1 Axes>"
            ],
            "image/png": "[encoded data removed]"
          },
          "metadata": {
            "needs_background": "light"
          }
        }
      ],
      "source": [
        "# view and example image\n",
        "# there are differences with how pandas and numpy behave in the versions on EMR and those on my system\n",
        "# for example, the code below, I need the line with iloc to slice the row for the image below\n",
        "\n",
        "import matplotlib as mpl\n",
        "import matplotlib.pyplot as plt\n",
        "\n",
        "# some_digit = X[0]\n",
        "some_digit = X.iloc[0].to_numpy()\n",
        "some_digit_image = some_digit.reshape(28,28)\n",
        "\n",
        "plt.imshow(some_digit_image, cmap = \"binary\")\n",
        "plt.axis(\"off\")\n",
        "plt.show()"
      ]
    },
    {
      "cell_type": "code",
      "execution_count": 6,
      "metadata": {
        "colab": {
          "base_uri": "https://localhost:8080/",
          "height": 35
        },
        "id": "rjOF8HxtidU-",
        "outputId": "d4acd7dd-8736-4433-bcd3-0c1a299f128e"
      },
      "outputs": [
        {
          "output_type": "execute_result",
          "data": {
            "text/plain": [
              "'5'"
            ],
            "application/vnd.google.colaboratory.intrinsic+json": {
              "type": "string"
            }
          },
          "metadata": {},
          "execution_count": 6
        }
      ],
      "source": [
        "y[0]"
      ]
    },
    {
      "cell_type": "code",
      "execution_count": 7,
      "metadata": {
        "id": "44dHRQpcsuel"
      },
      "outputs": [],
      "source": [
        "# the label is a string, so we need to convert to an int\n",
        "import numpy as np\n",
        "y = y.astype(np.uint8)"
      ]
    },
    {
      "cell_type": "code",
      "execution_count": 8,
      "metadata": {
        "id": "Fxl9jZzfs9v9"
      },
      "outputs": [],
      "source": [
        "# the mnist data is already split into train and test\n",
        "X_train, X_test, y_train, y_test = X[:60000], X[60000:], y[:60000], y[60000:]"
      ]
    },
    {
      "cell_type": "markdown",
      "metadata": {
        "id": "xk_-A5duSnZy"
      },
      "source": [
        "## Train a Binary Classifier"
      ]
    },
    {
      "cell_type": "code",
      "execution_count": 9,
      "metadata": {
        "colab": {
          "base_uri": "https://localhost:8080/"
        },
        "id": "Sv9timV0tqat",
        "outputId": "4c4ff0d7-0dbc-4baa-bb12-866452b3bf36"
      },
      "outputs": [
        {
          "output_type": "execute_result",
          "data": {
            "text/plain": [
              "SGDClassifier()"
            ]
          },
          "metadata": {},
          "execution_count": 9
        }
      ],
      "source": [
        "# train a binary classifier\n",
        "\n",
        "# setup\n",
        "y_train_5 = (y_train == 5) # setting up binary target == 5\n",
        "y_test_5 = (y_test == 5)\n",
        "\n",
        "# train the stochastic gradient descent classifier\n",
        "from sklearn.linear_model import SGDClassifier\n",
        "sgd_clf = SGDClassifier()\n",
        "sgd_clf.fit(X_train, y_train_5)\n"
      ]
    },
    {
      "cell_type": "code",
      "execution_count": 10,
      "metadata": {
        "colab": {
          "base_uri": "https://localhost:8080/"
        },
        "id": "oA8-LzhDSCVY",
        "outputId": "c3fe8794-6b50-436e-9e87-7fe188d4ea67"
      },
      "outputs": [
        {
          "output_type": "stream",
          "name": "stderr",
          "text": [
            "/usr/local/lib/python3.7/dist-packages/sklearn/base.py:451: UserWarning: X does not have valid feature names, but SGDClassifier was fitted with feature names\n",
            "  \"X does not have valid feature names, but\"\n"
          ]
        },
        {
          "output_type": "execute_result",
          "data": {
            "text/plain": [
              "array([False])"
            ]
          },
          "metadata": {},
          "execution_count": 10
        }
      ],
      "source": [
        "# predict with the trained classifier\n",
        "sgd_clf.predict([some_digit])"
      ]
    },
    {
      "cell_type": "markdown",
      "metadata": {
        "id": "Tg7e9gXrVjEm"
      },
      "source": [
        "## Model Performance Evaluation\n",
        "\n",
        "### Common Options\n",
        "\n",
        "* Accuracy with Cross-Validation\n",
        "Implementing a custom version with more flexibility than the one shipped with scikit-learn is not complicated.... see below.\n"
      ]
    },
    {
      "cell_type": "code",
      "execution_count": 14,
      "metadata": {
        "colab": {
          "base_uri": "https://localhost:8080/"
        },
        "id": "iL-CXsA_UnSu",
        "outputId": "62185126-3d95-4bc7-afee-3a29e5605ecf"
      },
      "outputs": [
        {
          "output_type": "stream",
          "name": "stdout",
          "text": [
            "0.95935\n",
            "0.96745\n",
            "0.96215\n"
          ]
        }
      ],
      "source": [
        "# custom cross-validation\n",
        "\n",
        "# Dependencies\n",
        "from sklearn.model_selection import StratifiedKFold\n",
        "from sklearn.base import clone\n",
        "\n",
        "skfolds = StratifiedKFold(n_splits=3)\n",
        "\n",
        "\"\"\" newer versions of pandas \"\"\"\n",
        "for train_index, test_index in skfolds.split(X_train, y_train_5):\n",
        "  clone_clf = clone(sgd_clf)\n",
        "  X_train_folds = X_train.iloc[train_index]\n",
        "  y_train_folds = y_train_5.iloc[train_index]\n",
        "  X_test_fold = X_train.iloc[test_index]\n",
        "  y_test_fold = y_train_5.iloc[test_index]\n",
        "\n",
        "# Use clone ultility to fit folds and aggregrate results\n",
        "  clone_clf.fit(X_train_folds, y_train_folds)\n",
        "  y_pred = clone_clf.predict(X_test_fold)\n",
        "  n_correct = sum(y_pred == y_test_fold)\n",
        "  print(n_correct / len(y_pred))\n",
        "\n"
      ]
    },
    {
      "cell_type": "code",
      "execution_count": 15,
      "metadata": {
        "colab": {
          "base_uri": "https://localhost:8080/"
        },
        "id": "Lu2PrkPiZxFS",
        "outputId": "02dc7430-4b8d-49cc-8a45-7938a43d4397"
      },
      "outputs": [
        {
          "output_type": "execute_result",
          "data": {
            "text/plain": [
              "array([0.96525   , 0.95058333, 0.96933333, 0.937     , 0.93833333])"
            ]
          },
          "metadata": {},
          "execution_count": 15
        }
      ],
      "source": [
        "# cross-validation with shipped methdo from scikit-learn\n",
        "from sklearn.model_selection import cross_val_score\n",
        "\n",
        "cross_val_score(sgd_clf, X_train, y_train_5, cv=5, scoring=\"accuracy\")"
      ]
    },
    {
      "cell_type": "markdown",
      "metadata": {
        "id": "0EsdWBWOcQCg"
      },
      "source": [
        "While the accuracies look great, this is an example of an imbalanced classifier.  Therefore we need to examine it with a better metrics to evaluation the model.  To show this, the next code shows a naive classification model that just classifies all images as \"not-5\"."
      ]
    },
    {
      "cell_type": "code",
      "execution_count": 16,
      "metadata": {
        "id": "FdVcLHZ6bwm8"
      },
      "outputs": [],
      "source": [
        "# showing issues of class imbalance\n",
        "from sklearn.base import BaseEstimator\n",
        "\n",
        "class Never5Classifier(BaseEstimator):\n",
        "  def fit(self, X, y=None):\n",
        "    return self\n",
        "\n",
        "  def predict(self, X):\n",
        "    return np.zeros((len(X), 1), dtype=bool)\n"
      ]
    },
    {
      "cell_type": "code",
      "execution_count": 17,
      "metadata": {
        "colab": {
          "base_uri": "https://localhost:8080/"
        },
        "id": "LBKa_KqadbOa",
        "outputId": "27137635-ae6b-451f-acd4-d483d60a46bc"
      },
      "outputs": [
        {
          "output_type": "execute_result",
          "data": {
            "text/plain": [
              "array([0.91125, 0.90855, 0.90915])"
            ]
          },
          "metadata": {},
          "execution_count": 17
        }
      ],
      "source": [
        "never_5_clf = Never5Classifier()\n",
        "\n",
        "cross_val_score(never_5_clf, X_train, y_train_5, cv=3, scoring=\"accuracy\")"
      ]
    },
    {
      "cell_type": "markdown",
      "metadata": {
        "id": "rdIIapMPerYW"
      },
      "source": [
        "## Confusion Matrix\n",
        "\n",
        "Inspect the distribution of the predicted labels."
      ]
    },
    {
      "cell_type": "code",
      "execution_count": 18,
      "metadata": {
        "id": "jQRlDsLSdu4W"
      },
      "outputs": [],
      "source": [
        "# setup dependencies for the confusion matrix\n",
        "from sklearn.model_selection import cross_val_predict\n",
        "\n",
        "y_train_pred = cross_val_predict(sgd_clf, X_train, y_train_5, cv=3)"
      ]
    },
    {
      "cell_type": "code",
      "execution_count": 19,
      "metadata": {
        "colab": {
          "base_uri": "https://localhost:8080/"
        },
        "id": "RRLNm-bPgQYg",
        "outputId": "4f3ffe67-2208-4fc9-f906-ab67023c28f3"
      },
      "outputs": [
        {
          "output_type": "execute_result",
          "data": {
            "text/plain": [
              "array([[52102,  2477],\n",
              "       [  860,  4561]])"
            ]
          },
          "metadata": {},
          "execution_count": 19
        }
      ],
      "source": [
        "# evaluate the confustion matric\n",
        "from sklearn.metrics import confusion_matrix\n",
        "\n",
        "confusion_matrix(y_train_5, y_train_pred)"
      ]
    },
    {
      "cell_type": "markdown",
      "metadata": {
        "id": "XH1bDHYHhyQ_"
      },
      "source": [
        "### Metrics from the Confusion Matrix\n",
        "\n",
        "* Precision = accuracy of true positives\n",
        "\n",
        "TP / TP + FP, e.g.) how many actual TPs do we have out of the to total count of positive instances - 5's in this case, whether they are TP or FP (negative instances classified to postives)\n",
        "\n",
        "Precision alone can also be misleading since the denominator is composed only of the available positive cases.  If all positive cases are predicted accurately then a 100% precision will result. We need another measure to help\n",
        "\n",
        "* Recall | Sensitivity | TPR  \n",
        "\n",
        "The recall is how sensitive the classifier is since it incorporates the FN in labes in the denominator.\n",
        "TP / TP + FN, where FN represents the postive class falsely classified as a negative...e.g.so \"sensitivity\"."
      ]
    },
    {
      "cell_type": "code",
      "execution_count": 20,
      "metadata": {
        "colab": {
          "base_uri": "https://localhost:8080/"
        },
        "id": "Erz__TmkhAum",
        "outputId": "aab24956-abbe-44ae-fb1d-73b7867cdc7b"
      },
      "outputs": [
        {
          "output_type": "stream",
          "name": "stdout",
          "text": [
            "0.6480534242682581\n",
            "0.8413576830843018\n"
          ]
        }
      ],
      "source": [
        "# metrics from the confusion matrix\n",
        "# Precision = accuracy of true positives\n",
        "\n",
        "from sklearn.metrics import precision_score, recall_score\n",
        "print(precision_score(y_train_5, y_train_pred))\n",
        "print(recall_score(y_train_5, y_train_pred))"
      ]
    },
    {
      "cell_type": "markdown",
      "metadata": {
        "id": "-150v2AZll2t"
      },
      "source": [
        "The interpretation of the precision and recall metrics is important and provides a richer understanding of a classifier's performance.  For example, the precision = 0.80 which means that when the model claims an image is a 5 it is correct 80% of the time.  The recall is a nice compliment to the precision since in this case it shows that the model only detects 5's 72.4% of the time...only so-s0 sentivity."
      ]
    },
    {
      "cell_type": "markdown",
      "metadata": {
        "id": "KZUMocB3nBzA"
      },
      "source": [
        "### Combining Precision and Recall: F1\n",
        "\n",
        "The F1 score is the harmonic mean of the precision and recall.  The harmonic mean calculated in such a way that that lower values get more weight.  This ensures that the a larger F1 score is driven by *both* the precision and recall being large.\n",
        "\n",
        "F1 = 2/(1/precision + 1/recall) = 2 * (precision*recall)/(precision + recall) = TP/(TP + (FN + FP)/2)"
      ]
    },
    {
      "cell_type": "code",
      "execution_count": 21,
      "metadata": {
        "colab": {
          "base_uri": "https://localhost:8080/"
        },
        "id": "EeIjyxTQlVGL",
        "outputId": "c314123f-2a88-4f24-9e23-8885725f2ac7"
      },
      "outputs": [
        {
          "output_type": "execute_result",
          "data": {
            "text/plain": [
              "0.7321614896861708"
            ]
          },
          "metadata": {},
          "execution_count": 21
        }
      ],
      "source": [
        "# F1 score\n",
        "from sklearn.metrics import f1_score\n",
        "f1_score(y_train_5, y_train_pred)"
      ]
    },
    {
      "cell_type": "markdown",
      "metadata": {
        "id": "FtWWcopUo13B"
      },
      "source": [
        "F1 favors the case when precision and recall for more balanced.  This may not always be the goal of the prediction.  For example, when we need to classify only good examples to be presented to a review team, we will favor high precision, but low recall (sensitivity).  On the other hand, one might want to ensure the model is very sensitive to alert or warn on events like possible shop-lifting.  In that case, we may favor a highly senstive model (recall) with lower precision.  There may be some FPs that need to be dealt with downstream.\n",
        "\n",
        "The scores from a classifier can be used to set the threshold a decision function used in the classififer to achieve a different balance of recall and precision depending on the need of the stakeholder"
      ]
    },
    {
      "cell_type": "code",
      "execution_count": 22,
      "metadata": {
        "colab": {
          "base_uri": "https://localhost:8080/"
        },
        "id": "bFqJELK4oOs_",
        "outputId": "48e432c5-de84-4e6a-8db4-9c86abb013cf"
      },
      "outputs": [
        {
          "output_type": "stream",
          "name": "stderr",
          "text": [
            "/usr/local/lib/python3.7/dist-packages/sklearn/base.py:451: UserWarning: X does not have valid feature names, but SGDClassifier was fitted with feature names\n",
            "  \"X does not have valid feature names, but\"\n"
          ]
        },
        {
          "output_type": "execute_result",
          "data": {
            "text/plain": [
              "array([-951.57576638])"
            ]
          },
          "metadata": {},
          "execution_count": 22
        }
      ],
      "source": [
        "# adjusting the decision threshold\n",
        "y_scores = sgd_clf.decision_function([some_digit])\n",
        "y_scores"
      ]
    },
    {
      "cell_type": "code",
      "execution_count": 23,
      "metadata": {
        "colab": {
          "base_uri": "https://localhost:8080/"
        },
        "id": "o4rFHIKnsF-w",
        "outputId": "29f00b30-e37e-449d-c063-61b509a04dda"
      },
      "outputs": [
        {
          "output_type": "stream",
          "name": "stdout",
          "text": [
            "[False]\n"
          ]
        }
      ],
      "source": [
        "threshold = 0\n",
        "y_some_digit_pred = (y_scores > threshold)\n",
        "print(y_some_digit_pred)"
      ]
    },
    {
      "cell_type": "code",
      "execution_count": 24,
      "metadata": {
        "colab": {
          "base_uri": "https://localhost:8080/"
        },
        "id": "TrKS5-9CstGf",
        "outputId": "f64206c0-d6b9-4d47-814e-4016f52f4da1"
      },
      "outputs": [
        {
          "output_type": "execute_result",
          "data": {
            "text/plain": [
              "-951.5757663802896"
            ]
          },
          "metadata": {},
          "execution_count": 24
        }
      ],
      "source": [
        "y_scores.min()"
      ]
    },
    {
      "cell_type": "code",
      "execution_count": 25,
      "metadata": {
        "colab": {
          "base_uri": "https://localhost:8080/"
        },
        "id": "PhqQdeq4s60i",
        "outputId": "6f7cd3fb-4897-44f5-d851-4bf390a34bbc"
      },
      "outputs": [
        {
          "output_type": "execute_result",
          "data": {
            "text/plain": [
              "array([False])"
            ]
          },
          "metadata": {},
          "execution_count": 25
        }
      ],
      "source": [
        "# increse the threshold\n",
        "threshold = 8000\n",
        "y_some_digit_pred = (y_scores > threshold)\n",
        "y_some_digit_pred"
      ]
    },
    {
      "cell_type": "markdown",
      "metadata": {
        "id": "oMPSuFDbt-xB"
      },
      "source": [
        "The image in `some_digit` actually represents a \"5\" so this shows how raising the threshold decreases recall (sensitivity) of the classifier.\n",
        "\n",
        "### How to specify threshold"
      ]
    },
    {
      "cell_type": "code",
      "execution_count": 26,
      "metadata": {
        "id": "uJyY8GQ6t6Pj"
      },
      "outputs": [],
      "source": [
        "# specifying threshold\n",
        "y_scores = cross_val_predict(sgd_clf, X_train, y_train_5, cv=3,\n",
        "                             method = \"decision_function\")"
      ]
    },
    {
      "cell_type": "markdown",
      "metadata": {
        "id": "lmiy5nWYvKp3"
      },
      "source": [
        "With all the raw scores from the decision function we can use them to plot a curve of precision and recall versus all the available thresholds."
      ]
    },
    {
      "cell_type": "code",
      "execution_count": 27,
      "metadata": {
        "colab": {
          "base_uri": "https://localhost:8080/",
          "height": 265
        },
        "id": "2PovgFhKu0ik",
        "outputId": "dcd5f97e-0941-4912-a0c4-2c72b71d1748"
      },
      "outputs": [
        {
          "output_type": "display_data",
          "data": {
            "text/plain": [
              "<Figure size 432x288 with 1 Axes>"
            ],
            "image/png": "[encoded data removed]"
          },
          "metadata": {
            "needs_background": "light"
          }
        }
      ],
      "source": [
        "# precision recall curve\n",
        "from sklearn.metrics import precision_recall_curve\n",
        "\n",
        "precisions, recalls, thresholds = precision_recall_curve(y_train_5, y_scores)\n",
        "\n",
        "# matplotlib to plot the results\n",
        "def plot_precision_recall(precisions, recalls, thresholds):\n",
        "  plt.plot(thresholds, precisions[:-1], \"b--\", label=\"Precision\")\n",
        "  plt.plot(thresholds, recalls[:-1], \"g-\", label=\"Recall\")\n",
        "  [...]\n",
        "\n",
        "plot_precision_recall(precisions, recalls, thresholds)\n",
        "plt.show()"
      ]
    },
    {
      "cell_type": "code",
      "execution_count": 28,
      "metadata": {
        "id": "qkn48rZuv4CP",
        "outputId": "1901fbeb-da80-471d-b31a-147e77429e11",
        "colab": {
          "base_uri": "https://localhost:8080/"
        }
      },
      "outputs": [
        {
          "output_type": "execute_result",
          "data": {
            "text/plain": [
              "3990.943875505044"
            ]
          },
          "metadata": {},
          "execution_count": 28
        }
      ],
      "source": [
        "                                                                                           # so, how to find the optimal threshold?\n",
        "threshold_90_precision = thresholds[np.argmax(precisions >= 0.90)]\n",
        "threshold_90_precision"
      ]
    },
    {
      "cell_type": "code",
      "source": [
        "y_train_pred_90 = (y_scores >= threshold_90_precision)\n",
        "y_train_pred_90 == True\n"
      ],
      "metadata": {
        "id": "g8ra6kb7p1ws",
        "outputId": "05d75682-3c89-4ff8-b168-66931f2d1e7b",
        "colab": {
          "base_uri": "https://localhost:8080/"
        }
      },
      "execution_count": 29,
      "outputs": [
        {
          "output_type": "execute_result",
          "data": {
            "text/plain": [
              "array([ True, False, False, ..., False, False, False])"
            ]
          },
          "metadata": {},
          "execution_count": 29
        }
      ]
    },
    {
      "cell_type": "code",
      "source": [
        "precision_score(y_train_5, y_train_pred_90)"
      ],
      "metadata": {
        "id": "YkZfHDzOqMuv",
        "outputId": "1525edf3-a733-4324-f2e7-4f40099a0363",
        "colab": {
          "base_uri": "https://localhost:8080/"
        }
      },
      "execution_count": 30,
      "outputs": [
        {
          "output_type": "execute_result",
          "data": {
            "text/plain": [
              "0.9001233045622689"
            ]
          },
          "metadata": {},
          "execution_count": 30
        }
      ]
    },
    {
      "cell_type": "code",
      "source": [
        "recall_score(y_train_5, y_train_pred_90)"
      ],
      "metadata": {
        "id": "KqEv-5oJrAEN",
        "outputId": "790866d2-68b4-4860-8dbf-79101c3ba68e",
        "colab": {
          "base_uri": "https://localhost:8080/"
        }
      },
      "execution_count": 31,
      "outputs": [
        {
          "output_type": "execute_result",
          "data": {
            "text/plain": [
              "0.5386460062719055"
            ]
          },
          "metadata": {},
          "execution_count": 31
        }
      ]
    },
    {
      "cell_type": "markdown",
      "source": [
        "## ROC Curve"
      ],
      "metadata": {
        "id": "FGhQVI5JrNlv"
      }
    },
    {
      "cell_type": "code",
      "source": [
        "# construct a ROC curve\n",
        "from sklearn.metrics import roc_curve\n",
        "\n",
        "# grab the data needed\n",
        "fpr, tpr, thresholds = roc_curve(y_train_5, y_scores)\n",
        "\n",
        "# define the plot function\n",
        "def plot_roc_curve(fpr, tpr, label=None):\n",
        "  plt.plot(fpr, tpr, linewidth=2, label=label)\n",
        "  plt.plot([0,1], [0,1], 'k--')  # dashed diagonal\n",
        "  [...]  # add axis labels and grid, etc.\n",
        "\n",
        "plot_roc_curve(fpr, tpr)\n",
        "plt.show()"
      ],
      "metadata": {
        "id": "X_UaEKeHrHOd",
        "outputId": "f527ef25-d17b-427a-abf7-c22ef1e6336a",
        "colab": {
          "base_uri": "https://localhost:8080/",
          "height": 265
        }
      },
      "execution_count": 32,
      "outputs": [
        {
          "output_type": "display_data",
          "data": {
            "text/plain": [
              "<Figure size 432x288 with 1 Axes>"
            ],
            "image/png": "[encoded data removed]"
          },
          "metadata": {
            "needs_background": "light"
          }
        }
      ]
    },
    {
      "cell_type": "code",
      "source": [
        "from sklearn.metrics import roc_auc_score\n",
        "roc_auc_score(y_train_5, y_scores)"
      ],
      "metadata": {
        "id": "8PGuRewOrvYi",
        "outputId": "790118c6-a598-4d56-987c-875732e567bf",
        "colab": {
          "base_uri": "https://localhost:8080/"
        }
      },
      "execution_count": 33,
      "outputs": [
        {
          "output_type": "execute_result",
          "data": {
            "text/plain": [
              "0.9543145200467745"
            ]
          },
          "metadata": {},
          "execution_count": 33
        }
      ]
    },
    {
      "cell_type": "markdown",
      "source": [
        "Assess SGD Classifier aginst Random Forest Classifier"
      ],
      "metadata": {
        "id": "LBWrIfHLWFud"
      }
    },
    {
      "cell_type": "code",
      "source": [
        "# Random Forest\n",
        "\n",
        "# import -----\n",
        "from sklearn.ensemble import RandomForestClassifier\n",
        "\n",
        "# train -----\n",
        "forest_clf = RandomForestClassifier(random_state = 42)\n",
        "y_proba_forest = cross_val_predict(\n",
        "    forest_clf,\n",
        "    X_train,\n",
        "    y_train_5,\n",
        "    cv = 3,\n",
        "    method = \"predict_proba\"\n",
        ")"
      ],
      "metadata": {
        "id": "2Vl_DgiFs3XB"
      },
      "execution_count": 34,
      "outputs": []
    },
    {
      "cell_type": "code",
      "source": [
        "# grab the postive class probas for roc_curve\n",
        "\n",
        "# get data -----\n",
        "y_scores_forest = y_proba_forest[:,1] # score = prob pos class\n",
        "fpr_forest, tpr_forest, thresholds_forest = roc_curve(y_train_5, y_scores_forest)\n"
      ],
      "metadata": {
        "id": "shhvatOQW_L_"
      },
      "execution_count": 35,
      "outputs": []
    },
    {
      "cell_type": "code",
      "source": [
        "# roc_curve comparing SGD and Random Forests\n",
        "\n",
        "# plot -----\n",
        "plt.plot(fpr, tpr, \"b:\",  label = \"SGD\")\n",
        "plot_roc_curve(fpr_forest, tpr_forest, \"Random Forest\")\n",
        "plt.legend(loc=\"lower right\")\n",
        "plt.show()"
      ],
      "metadata": {
        "id": "6r-lPSN4X08h",
        "outputId": "aa2de81e-4dce-463f-a837-128a5c8e079e",
        "colab": {
          "base_uri": "https://localhost:8080/",
          "height": 265
        }
      },
      "execution_count": 36,
      "outputs": [
        {
          "output_type": "display_data",
          "data": {
            "text/plain": [
              "<Figure size 432x288 with 1 Axes>"
            ],
            "image/png": "[encoded data removed]"
          },
          "metadata": {
            "needs_background": "light"
          }
        }
      ]
    },
    {
      "cell_type": "code",
      "source": [
        "# compute the Random Forest AUC score\n",
        "roc_auc_score(y_train_5, y_scores_forest)"
      ],
      "metadata": {
        "id": "Esr0z36UX5oN",
        "outputId": "fcc94cf1-454d-452f-f137-a845147daea6",
        "colab": {
          "base_uri": "https://localhost:8080/"
        }
      },
      "execution_count": 37,
      "outputs": [
        {
          "output_type": "execute_result",
          "data": {
            "text/plain": [
              "0.9983436731328145"
            ]
          },
          "metadata": {},
          "execution_count": 37
        }
      ]
    },
    {
      "cell_type": "code",
      "source": [
        "# get the 90% precision threshold -----\n",
        "forest_thresh_90prec = thresholds_forest[np.argmax(tpr_forest >= 0.90)]\n",
        "\n",
        "# calc binary pred response -----\n",
        "y_forest_binary = (y_scores >= forest_thresh_90prec)\n",
        "\n",
        "# precision and recall scores\n",
        "print(precision_score(y_train_5, y_forest_binary))\n",
        "print(recall_score(y_train_5, y_forest_binary))"
      ],
      "metadata": {
        "id": "Oy87kd-CZAVA",
        "outputId": "e7e22b7b-aaa1-4134-b939-febe2345dfe5",
        "colab": {
          "base_uri": "https://localhost:8080/"
        }
      },
      "execution_count": 38,
      "outputs": [
        {
          "output_type": "stream",
          "name": "stdout",
          "text": [
            "0.7058723404255319\n",
            "0.7649880095923262\n"
          ]
        }
      ]
    },
    {
      "cell_type": "markdown",
      "source": [
        "## Moving on multi-class evaluation"
      ],
      "metadata": {
        "id": "QHOh4_l2c1XU"
      }
    },
    {
      "cell_type": "code",
      "source": [
        "# SVC Classifier using the OvO strategy\n",
        "\n",
        "# import -----\n",
        "from sklearn.svm import SVC\n",
        "\n",
        "# train -----\n",
        "svm_clf = SVC()\n",
        "svm_clf.fit(X_train, y_train)\n",
        "svm_clf.predict([some_digit])"
      ],
      "metadata": {
        "id": "UhTX4wauZce0",
        "outputId": "4ba4e7f1-6db0-4480-eb3f-6b4ad31d4106",
        "colab": {
          "base_uri": "https://localhost:8080/"
        }
      },
      "execution_count": 39,
      "outputs": [
        {
          "output_type": "stream",
          "name": "stderr",
          "text": [
            "/usr/local/lib/python3.7/dist-packages/sklearn/base.py:451: UserWarning: X does not have valid feature names, but SVC was fitted with feature names\n",
            "  \"X does not have valid feature names, but\"\n"
          ]
        },
        {
          "output_type": "execute_result",
          "data": {
            "text/plain": [
              "array([5], dtype=uint8)"
            ]
          },
          "metadata": {},
          "execution_count": 39
        }
      ]
    },
    {
      "cell_type": "code",
      "source": [
        "# seeing the outcome of the OvO scoring and choice\n",
        "some_digit_scores = svm_clf.decision_function([some_digit])\n",
        "some_digit_scores"
      ],
      "metadata": {
        "id": "NGbrZ73wdrWK",
        "outputId": "5c252ad8-7301-49de-829d-d5a7205907d1",
        "colab": {
          "base_uri": "https://localhost:8080/"
        }
      },
      "execution_count": 40,
      "outputs": [
        {
          "output_type": "stream",
          "name": "stderr",
          "text": [
            "/usr/local/lib/python3.7/dist-packages/sklearn/base.py:451: UserWarning: X does not have valid feature names, but SVC was fitted with feature names\n",
            "  \"X does not have valid feature names, but\"\n"
          ]
        },
        {
          "output_type": "execute_result",
          "data": {
            "text/plain": [
              "array([[ 1.72501977,  2.72809088,  7.2510018 ,  8.3076379 , -0.31087254,\n",
              "         9.3132482 ,  1.70975103,  2.76765202,  6.23049537,  4.84771048]])"
            ]
          },
          "metadata": {},
          "execution_count": 40
        }
      ]
    },
    {
      "cell_type": "code",
      "source": [
        "np.argmax(some_digit_scores)"
      ],
      "metadata": {
        "id": "U3kLz46weX48",
        "outputId": "3714935f-779c-4f85-9548-5dba29304eb7",
        "colab": {
          "base_uri": "https://localhost:8080/"
        }
      },
      "execution_count": 41,
      "outputs": [
        {
          "output_type": "execute_result",
          "data": {
            "text/plain": [
              "5"
            ]
          },
          "metadata": {},
          "execution_count": 41
        }
      ]
    },
    {
      "cell_type": "code",
      "source": [
        "# forcing the classifier to use OvR strategy\n",
        "\n",
        "# imports -----\n",
        "from sklearn.multiclass import OneVsRestClassifier\n",
        "\n",
        "# train -----\n",
        "ovr_clf = OneVsRestClassifier(SVC())\n",
        "ovr_clf.fit(X_train, y_train)\n",
        "\n",
        "# predict -----\n",
        "ovr_clf.predict([some_digit])"
      ],
      "metadata": {
        "id": "OO_43TEMeiIC",
        "outputId": "de8ba977-3aec-41f4-c3e7-81ec31c46214",
        "colab": {
          "base_uri": "https://localhost:8080/"
        }
      },
      "execution_count": 42,
      "outputs": [
        {
          "output_type": "stream",
          "name": "stderr",
          "text": [
            "/usr/local/lib/python3.7/dist-packages/sklearn/base.py:451: UserWarning: X does not have valid feature names, but SVC was fitted with feature names\n",
            "  \"X does not have valid feature names, but\"\n",
            "/usr/local/lib/python3.7/dist-packages/sklearn/base.py:451: UserWarning: X does not have valid feature names, but SVC was fitted with feature names\n",
            "  \"X does not have valid feature names, but\"\n",
            "/usr/local/lib/python3.7/dist-packages/sklearn/base.py:451: UserWarning: X does not have valid feature names, but SVC was fitted with feature names\n",
            "  \"X does not have valid feature names, but\"\n",
            "/usr/local/lib/python3.7/dist-packages/sklearn/base.py:451: UserWarning: X does not have valid feature names, but SVC was fitted with feature names\n",
            "  \"X does not have valid feature names, but\"\n",
            "/usr/local/lib/python3.7/dist-packages/sklearn/base.py:451: UserWarning: X does not have valid feature names, but SVC was fitted with feature names\n",
            "  \"X does not have valid feature names, but\"\n",
            "/usr/local/lib/python3.7/dist-packages/sklearn/base.py:451: UserWarning: X does not have valid feature names, but SVC was fitted with feature names\n",
            "  \"X does not have valid feature names, but\"\n",
            "/usr/local/lib/python3.7/dist-packages/sklearn/base.py:451: UserWarning: X does not have valid feature names, but SVC was fitted with feature names\n",
            "  \"X does not have valid feature names, but\"\n",
            "/usr/local/lib/python3.7/dist-packages/sklearn/base.py:451: UserWarning: X does not have valid feature names, but SVC was fitted with feature names\n",
            "  \"X does not have valid feature names, but\"\n",
            "/usr/local/lib/python3.7/dist-packages/sklearn/base.py:451: UserWarning: X does not have valid feature names, but SVC was fitted with feature names\n",
            "  \"X does not have valid feature names, but\"\n",
            "/usr/local/lib/python3.7/dist-packages/sklearn/base.py:451: UserWarning: X does not have valid feature names, but SVC was fitted with feature names\n",
            "  \"X does not have valid feature names, but\"\n"
          ]
        },
        {
          "output_type": "execute_result",
          "data": {
            "text/plain": [
              "array([5], dtype=uint8)"
            ]
          },
          "metadata": {},
          "execution_count": 42
        }
      ]
    },
    {
      "cell_type": "code",
      "source": [
        "# ease of prediction multiple classed with other models like\n",
        "# SGD or Random Forests\n",
        "\n",
        "# using SGD to follow the book -----\n",
        "sgd_clf.fit(X_train, y_train)\n",
        "sgd_clf.predict([some_digit])\n"
      ],
      "metadata": {
        "id": "5kXDG7kFf2bj",
        "colab": {
          "base_uri": "https://localhost:8080/"
        },
        "outputId": "b6d709a2-8524-45a4-d438-51b06b9d9b85"
      },
      "execution_count": 43,
      "outputs": [
        {
          "output_type": "stream",
          "name": "stderr",
          "text": [
            "/usr/local/lib/python3.7/dist-packages/sklearn/base.py:451: UserWarning: X does not have valid feature names, but SGDClassifier was fitted with feature names\n",
            "  \"X does not have valid feature names, but\"\n"
          ]
        },
        {
          "output_type": "execute_result",
          "data": {
            "text/plain": [
              "array([5], dtype=uint8)"
            ]
          },
          "metadata": {},
          "execution_count": 43
        }
      ]
    },
    {
      "cell_type": "code",
      "source": [
        "print(sgd_clf.decision_function([some_digit]))\n",
        "print(np.argmax(sgd_clf.decision_function([some_digit])))"
      ],
      "metadata": {
        "colab": {
          "base_uri": "https://localhost:8080/"
        },
        "id": "iI4fPpNu_15o",
        "outputId": "12c36d37-81d6-4b13-d74a-350e343be03c"
      },
      "execution_count": 44,
      "outputs": [
        {
          "output_type": "stream",
          "name": "stdout",
          "text": [
            "[[-27303.51969018 -32003.41282199 -12850.33233958  -3735.73615537\n",
            "  -26699.74636636   1403.67546155 -18587.79334551 -12268.41161324\n",
            "  -12093.85232249 -14237.55769543]]\n",
            "5\n"
          ]
        },
        {
          "output_type": "stream",
          "name": "stderr",
          "text": [
            "/usr/local/lib/python3.7/dist-packages/sklearn/base.py:451: UserWarning: X does not have valid feature names, but SGDClassifier was fitted with feature names\n",
            "  \"X does not have valid feature names, but\"\n",
            "/usr/local/lib/python3.7/dist-packages/sklearn/base.py:451: UserWarning: X does not have valid feature names, but SGDClassifier was fitted with feature names\n",
            "  \"X does not have valid feature names, but\"\n"
          ]
        }
      ]
    },
    {
      "cell_type": "code",
      "source": [
        "# model performance with cross-validation\n",
        "cross_val_score(\n",
        "    sgd_clf, \n",
        "    X_train, \n",
        "    y_train, \n",
        "    cv = 3, \n",
        "    scoring = \"accuracy\"\n",
        "    )"
      ],
      "metadata": {
        "colab": {
          "base_uri": "https://localhost:8080/"
        },
        "id": "U6uUPi9oC1_I",
        "outputId": "bbb18d30-4fbe-4ad8-8a9a-74019289eab0"
      },
      "execution_count": 45,
      "outputs": [
        {
          "output_type": "execute_result",
          "data": {
            "text/plain": [
              "array([0.87945, 0.8875 , 0.85155])"
            ]
          },
          "metadata": {},
          "execution_count": 45
        }
      ]
    },
    {
      "cell_type": "code",
      "source": [
        "# some improvement with scaling the imput intensities\n",
        "from sklearn.preprocessing import StandardScaler\n",
        "\n",
        "scaler = StandardScaler()\n",
        "X_train_scaled = scaler.fit_transform(X_train.astype(np.float64))\n",
        "cross_val_score(\n",
        "    sgd_clf,\n",
        "    X_train_scaled,\n",
        "    y_train,\n",
        "    cv = 3, \n",
        "    scoring = \"accuracy\"\n",
        ")\n"
      ],
      "metadata": {
        "colab": {
          "base_uri": "https://localhost:8080/"
        },
        "id": "lKq5QiodFgez",
        "outputId": "e480a04d-d975-4194-9a69-3c0a056a26ea"
      },
      "execution_count": null,
      "outputs": [
        {
          "output_type": "stream",
          "name": "stderr",
          "text": [
            "/usr/local/lib/python3.7/dist-packages/sklearn/linear_model/_stochastic_gradient.py:700: ConvergenceWarning: Maximum number of iteration reached before convergence. Consider increasing max_iter to improve the fit.\n",
            "  ConvergenceWarning,\n",
            "/usr/local/lib/python3.7/dist-packages/sklearn/linear_model/_stochastic_gradient.py:700: ConvergenceWarning: Maximum number of iteration reached before convergence. Consider increasing max_iter to improve the fit.\n",
            "  ConvergenceWarning,\n"
          ]
        },
        {
          "output_type": "execute_result",
          "data": {
            "text/plain": [
              "array([0.9042 , 0.8959 , 0.90595])"
            ]
          },
          "metadata": {},
          "execution_count": 62
        }
      ]
    },
    {
      "cell_type": "markdown",
      "source": [
        "## Error Analysis\n",
        "\n",
        "Once a model is buitt that will satisfy the requirements, to make further improvements on that model it's often beneficial to undergo some error analysis to identify the types of errors being produced and and how we might go ahead fixing them."
      ],
      "metadata": {
        "id": "iXHRTN3dBnxI"
      }
    },
    {
      "cell_type": "code",
      "source": [
        "y_train_pred = cross_val_predict(sgd_clf, X_train, y_train, cv=3)\n",
        "conf_mx = confusion_matrix(y_train, y_train_pred)\n",
        "conf_mx"
      ],
      "metadata": {
        "id": "vVWALN1tAwBK",
        "outputId": "83a84276-8275-407d-8224-7e1c36a1adab",
        "colab": {
          "base_uri": "https://localhost:8080/"
        }
      },
      "execution_count": 46,
      "outputs": [
        {
          "output_type": "execute_result",
          "data": {
            "text/plain": [
              "array([[5668,    1,   55,   10,   15,   24,   48,    4,   86,   12],\n",
              "       [   2, 6315,   44,   41,    8,   25,   17,   15,  270,    5],\n",
              "       [  44,   44, 5238,  162,   49,   21,   98,   74,  208,   20],\n",
              "       [  46,   43,  244, 5271,   18,  137,   28,   58,  206,   80],\n",
              "       [  21,   25,  103,   31, 4946,   14,   78,   54,  201,  369],\n",
              "       [ 113,   23,   91,  354,   81, 3961,  179,   25,  446,  148],\n",
              "       [  53,    4,  118,    2,   22,   74, 5559,    6,   77,    3],\n",
              "       [  26,   24,   77,   54,   54,    7,    5, 5618,   92,  308],\n",
              "       [  39,  100,  108,  166,   33,  124,   59,   37, 5070,  115],\n",
              "       [  37,   33,   35,  130,  110,   66,    3,  296,  197, 5042]])"
            ]
          },
          "metadata": {},
          "execution_count": 46
        }
      ]
    },
    {
      "cell_type": "code",
      "source": [
        "plt.matshow(conf_mx, cmap=plt.cm.gray)\n",
        "plt.show()"
      ],
      "metadata": {
        "id": "NhgDkzitmR3S",
        "outputId": "498f03f5-7cb8-444b-b606-5540fb38bece",
        "colab": {
          "base_uri": "https://localhost:8080/",
          "height": 275
        }
      },
      "execution_count": null,
      "outputs": [
        {
          "output_type": "display_data",
          "data": {
            "text/plain": [
              "<Figure size 288x288 with 1 Axes>"
            ],
            "image/png": "[encoded data removed]"
          },
          "metadata": {
            "needs_background": "light"
          }
        }
      ]
    },
    {
      "cell_type": "code",
      "source": [
        "# focus on the error rates - divide the raw counts by the N / class\n",
        "row_sums = conf_mx.sum(axis=1, keepdims=True)\n",
        "norm_conf_mx = conf_mx / row_sums\n",
        "np.fill_diagonal(norm_conf_mx, 0)\n",
        "plt.matshow(norm_conf_mx, cmap=plt.cm.gray)\n",
        "plt.show()"
      ],
      "metadata": {
        "id": "fPcYkRy9wbH8",
        "outputId": "121bb8fe-e7cf-48b9-86ba-5e35ef0a4515",
        "colab": {
          "base_uri": "https://localhost:8080/",
          "height": 275
        }
      },
      "execution_count": null,
      "outputs": [
        {
          "output_type": "display_data",
          "data": {
            "text/plain": [
              "<Figure size 288x288 with 1 Axes>"
            ],
            "image/png": "[encoded data removed]"
          },
          "metadata": {
            "needs_background": "light"
          }
        }
      ]
    },
    {
      "cell_type": "code",
      "source": [
        "# see the accompanying notebook for code to inspect the mis-classified images"
      ],
      "metadata": {
        "id": "izqxyHNezlTQ"
      },
      "execution_count": 1,
      "outputs": []
    },
    {
      "cell_type": "markdown",
      "source": [
        "## Multilabel Classification"
      ],
      "metadata": {
        "id": "joCWB_Lub5bv"
      }
    },
    {
      "cell_type": "code",
      "source": [
        "# 1. example with a 2 element class label\n",
        "\n",
        "# import -----\n",
        "from sklearn.neighbors import KNeighborsClassifier\n",
        "\n",
        "# create the multi-class label, e.g.) large digit & odd\n",
        "y_train_large = (y_train >= 7)\n",
        "y_train_odd = (y_train % 2 == 1)\n",
        "y_multilabel = np.c_[y_train_large, y_train_odd]  # label needs to be a np array\n",
        "\n",
        "# train -----\n",
        "knn_clf = KNeighborsClassifier()\n",
        "knn_clf.fit(X_train, y_multilabel)\n",
        "\n",
        "# predict -----\n",
        "knn_clf.predict([some_digit])"
      ],
      "metadata": {
        "id": "Ob5sZnLkMMGs",
        "outputId": "ef28ba2a-a6fc-4e39-cdc4-275062becacf",
        "colab": {
          "base_uri": "https://localhost:8080/"
        }
      },
      "execution_count": 48,
      "outputs": [
        {
          "output_type": "stream",
          "name": "stderr",
          "text": [
            "/usr/local/lib/python3.7/dist-packages/sklearn/base.py:451: UserWarning: X does not have valid feature names, but KNeighborsClassifier was fitted with feature names\n",
            "  \"X does not have valid feature names, but\"\n"
          ]
        },
        {
          "output_type": "execute_result",
          "data": {
            "text/plain": [
              "array([[False,  True]])"
            ]
          },
          "metadata": {},
          "execution_count": 48
        }
      ]
    },
    {
      "cell_type": "code",
      "source": [
        "# evaluation can be done with any classifier metric in aggregate\n",
        "\n",
        "# evaluation -----\n",
        "y_train_knn_pred = cross_val_predict(\n",
        "    knn_clf,\n",
        "    X_train,\n",
        "    y_multilabel,\n",
        "    cv = 3,\n",
        ")\n",
        "\n",
        "f1_score(y_multilabel, y_train_knn_pred, average=\"macro\")"
      ],
      "metadata": {
        "id": "LWvC18zddGk9",
        "outputId": "914d78fc-ca21-4fce-8873-11c03de9e8c1",
        "colab": {
          "base_uri": "https://localhost:8080/"
        }
      },
      "execution_count": 50,
      "outputs": [
        {
          "output_type": "execute_result",
          "data": {
            "text/plain": [
              "0.976410265560605"
            ]
          },
          "metadata": {},
          "execution_count": 50
        }
      ]
    },
    {
      "cell_type": "code",
      "source": [
        "# a more complex example of multioutput classification\n",
        "# goal = image noise removal\n",
        "# predict a cleaned version of an image which means the label\n",
        "# consists of one label per pixel within the image where the pixel's\n",
        "# value can have an intensity anywhere from 0-255\n",
        "\n",
        "# create noisy data -----\n",
        "noise = np.random.randint(0,100,(len(X_train), 784))\n",
        "X_train_mod = X_train + noise\n",
        "noise = np.random.randint(0,100,(len(X_test), 784))\n",
        "X_test_mod = X_test + noise\n",
        "y_train_mod = X_train\n",
        "y_test_mod = X_test\n",
        "\n",
        "# train -----\n",
        "knn_clf.fit(X_train_mod, y_train_mod)\n",
        "\n",
        "# to see the result... see the code in the accompanying notebook for chapter 3"
      ],
      "metadata": {
        "id": "IRtBXH8MeFFD",
        "outputId": "00874ad7-c519-499e-a287-3b351feb7317",
        "colab": {
          "base_uri": "https://localhost:8080/"
        }
      },
      "execution_count": 51,
      "outputs": [
        {
          "output_type": "execute_result",
          "data": {
            "text/plain": [
              "KNeighborsClassifier()"
            ]
          },
          "metadata": {},
          "execution_count": 51
        }
      ]
    },
    {
      "cell_type": "code",
      "source": [
        ""
      ],
      "metadata": {
        "id": "BTWiLtiog0MY"
      },
      "execution_count": null,
      "outputs": []
    }
  ],
  "metadata": {
    "colab": {
      "name": "c3_classification.ipynb",
      "provenance": []
    },
    "kernelspec": {
      "display_name": "Python 3",
      "language": "python",
      "name": "python3"
    },
    "language_info": {
      "codemirror_mode": {
        "name": "ipython",
        "version": 3
      },
      "file_extension": ".py",
      "mimetype": "text/x-python",
      "name": "python",
      "nbconvert_exporter": "python",
      "pygments_lexer": "ipython3",
      "version": "3.6.12"
    }
  },
  "nbformat": 4,
  "nbformat_minor": 0
}