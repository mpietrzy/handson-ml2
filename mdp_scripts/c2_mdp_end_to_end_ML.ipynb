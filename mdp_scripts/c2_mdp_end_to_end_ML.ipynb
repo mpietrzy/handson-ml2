{
 "cells": [
  {
   "cell_type": "markdown",
   "metadata": {},
   "source": [
    "# Chapter 2: End to end Machine Learning Workflow\n",
    "\n",
    "## Objective\n",
    "\n",
    "The objective of this work is to use the California Census data to deliver a model predicting the median housing price based on the features contained within the census data set.  The model will be used as a sub-model in a larger model predicting investment opportunities for the company.  Given propogation of error, it is important to deliver an accurate model since its results will be used in a subsequent model.  Ultimately, the output of the this work will be the district median price signal that will be fed into the overall investment model.\n",
    "\n",
    "## Data\n",
    "\n",
    "The data for this work is located in the following relative path:`../datasets/housing/housing.csv`"
   ]
  },
  {
   "cell_type": "code",
   "execution_count": null,
   "metadata": {},
   "outputs": [],
   "source": []
  }
 ],
 "metadata": {
  "kernelspec": {
   "display_name": "Python 3",
   "language": "python",
   "name": "python3"
  },
  "language_info": {
   "codemirror_mode": {
    "name": "ipython",
    "version": 3
   },
   "file_extension": ".py",
   "mimetype": "text/x-python",
   "name": "python",
   "nbconvert_exporter": "python",
   "pygments_lexer": "ipython3",
   "version": "3.6.12"
  }
 },
 "nbformat": 4,
 "nbformat_minor": 2
}
