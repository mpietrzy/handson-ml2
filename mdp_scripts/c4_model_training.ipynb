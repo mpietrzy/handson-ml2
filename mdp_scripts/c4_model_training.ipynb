{
  "nbformat": 4,
  "nbformat_minor": 0,
  "metadata": {
    "colab": {
      "name": "c4_model_training.ipynb",
      "provenance": [],
      "authorship_tag": "ABX9TyO3lzQUu0e3WJvhYiL36Zfq",
      "include_colab_link": true
    },
    "kernelspec": {
      "name": "python3",
      "display_name": "Python 3"
    },
    "language_info": {
      "name": "python"
    }
  },
  "cells": [
    {
      "cell_type": "markdown",
      "metadata": {
        "id": "view-in-github",
        "colab_type": "text"
      },
      "source": [
        "<a href=\"https://colab.research.google.com/github/mpietrzy/handson-ml2/blob/master/mdp_scripts/c4_model_training.ipynb\" target=\"_parent\"><img src=\"https://colab.research.google.com/assets/colab-badge.svg\" alt=\"Open In Colab\"/></a>"
      ]
    },
    {
      "cell_type": "markdown",
      "source": [
        "## The Normal Equation\n",
        "\n"
      ],
      "metadata": {
        "id": "Ry6Iw1jXkktk"
      }
    },
    {
      "cell_type": "code",
      "source": [
        "# imports\n",
        "import numpy as np\n",
        "import matplotlib as mpl\n",
        "import matplotlib.pyplot as plt\n",
        "from sklearn.linear_model import LinearRegression"
      ],
      "metadata": {
        "id": "hMljOm-jm4U-"
      },
      "execution_count": 6,
      "outputs": []
    },
    {
      "cell_type": "code",
      "execution_count": 2,
      "metadata": {
        "colab": {
          "base_uri": "https://localhost:8080/"
        },
        "id": "0iKCRt15kfig",
        "outputId": "cccc7ea2-7ad4-4c48-8597-e5d6df72297a"
      },
      "outputs": [
        {
          "output_type": "stream",
          "name": "stdout",
          "text": [
            "[[3.93838926]\n",
            " [3.06532396]]\n"
          ]
        }
      ],
      "source": [
        "# imports -----\n",
        "import numpy as np\n",
        "\n",
        "# generate some linear data -----\n",
        "X = 2*np.random.rand(100,1)\n",
        "y = 4+3*X + np.random.randn(100,1)\n",
        "\n",
        "# compute thetas using normal equation ----\n",
        "X_b = np.c_[np.ones((100,1)), X]\n",
        "theta_best = np.linalg.inv(X_b.T.dot(X_b)).dot(X_b.T).dot(y)\n",
        "print(theta_best)"
      ]
    },
    {
      "cell_type": "code",
      "source": [
        "# predictions -----\n",
        "X_new = np.array([[0], [2]])\n",
        "X_new_b = np.c_[np.ones((2,1)), X_new]\n",
        "y_predict = X_new_b.dot(theta_best)\n",
        "print(y_predict)"
      ],
      "metadata": {
        "colab": {
          "base_uri": "https://localhost:8080/"
        },
        "id": "xxePr9dqlurI",
        "outputId": "4f759cfa-a2ac-43f6-8802-7a6b045cb671"
      },
      "execution_count": 3,
      "outputs": [
        {
          "output_type": "stream",
          "name": "stdout",
          "text": [
            "[[ 3.93838926]\n",
            " [10.06903719]]\n"
          ]
        }
      ]
    },
    {
      "cell_type": "code",
      "source": [
        "# plot -----\n",
        "plt.plot(X_new, y_predict, \"r-\")\n",
        "plt.plot(X, y, \"b.\")\n",
        "plt.axis([0,2,0,15])\n",
        "plt.show()"
      ],
      "metadata": {
        "colab": {
          "base_uri": "https://localhost:8080/",
          "height": 265
        },
        "id": "1b62lX85moAq",
        "outputId": "8c299581-43bf-413a-b6c2-d11601cc44c3"
      },
      "execution_count": 5,
      "outputs": [
        {
          "output_type": "display_data",
          "data": {
            "text/plain": [
              "<Figure size 432x288 with 1 Axes>"
            ],
            "image/png": "[encoded data removed]"
          },
          "metadata": {
            "needs_background": "light"
          }
        }
      ]
    },
    {
      "cell_type": "markdown",
      "source": [
        "## Linear Regression with Scikit-Learn"
      ],
      "metadata": {
        "id": "IOrn7Bjwnj0f"
      }
    },
    {
      "cell_type": "code",
      "source": [
        "# train -----\n",
        "lin_reg = LinearRegression()\n",
        "lin_reg.fit(X,y)\n",
        "\n",
        "# estimated parameters -----\n",
        "print(lin_reg.intercept_)\n",
        "print(lin_reg.coef_)\n",
        "\n",
        "# prediction -----\n",
        "lin_reg.predict(X_new)"
      ],
      "metadata": {
        "colab": {
          "base_uri": "https://localhost:8080/"
        },
        "id": "sVnP-HP4nVgX",
        "outputId": "e3994435-e016-42a9-eef6-2cb38717a1ca"
      },
      "execution_count": 10,
      "outputs": [
        {
          "output_type": "stream",
          "name": "stdout",
          "text": [
            "[3.93838926]\n",
            "[[3.06532396]]\n"
          ]
        },
        {
          "output_type": "execute_result",
          "data": {
            "text/plain": [
              "array([[ 3.93838926],\n",
              "       [10.06903719]])"
            ]
          },
          "metadata": {},
          "execution_count": 10
        }
      ]
    },
    {
      "cell_type": "markdown",
      "source": [
        "Scikit-learn's implementation is based on scipy's least squares algorithm that\n",
        "employs the Moore-Penrose inverse.. or the pseudoinverse due to the complexity \n",
        "of inverting some matrices.  The Moore-Penrose inverse uses SVD (singular value decompostion)\n"
      ],
      "metadata": {
        "id": "ZO6JrrFIowEm"
      }
    },
    {
      "cell_type": "code",
      "source": [
        "# using scipy's least squares algorithm and the pseuodinverse\n",
        "theta_best_svd, residuals, ranks, s = np.linalg.lstsq(X_b, y, rcond=1e-6)\n",
        "theta_best_svd"
      ],
      "metadata": {
        "colab": {
          "base_uri": "https://localhost:8080/"
        },
        "id": "3FlPhcQ1oAzX",
        "outputId": "2646f9f8-9ca6-42cc-dee2-0f8f841884c1"
      },
      "execution_count": 11,
      "outputs": [
        {
          "output_type": "execute_result",
          "data": {
            "text/plain": [
              "array([[3.93838926],\n",
              "       [3.06532396]])"
            ]
          },
          "metadata": {},
          "execution_count": 11
        }
      ]
    },
    {
      "cell_type": "code",
      "source": [
        ""
      ],
      "metadata": {
        "id": "5zDgYT-EppzT"
      },
      "execution_count": null,
      "outputs": []
    }
  ]
}